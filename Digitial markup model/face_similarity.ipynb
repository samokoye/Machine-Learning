{
 "cells": [
  {
   "cell_type": "code",
   "execution_count": 6,
   "id": "56a30768",
   "metadata": {},
   "outputs": [],
   "source": [
    "import face_recognition\n",
    "from pathlib import Path\n",
    "from PIL import Image\n",
    "\n",
    "# Load the image of the person we want to find similar people for\n",
    "known_image =face_recognition.load_image_file('test_face.jpg')\n",
    "\n",
    "# Encode the known image\n",
    "known_image_encoding = face_recognition.face_encodings(known_image)[0]\n",
    "\n",
    "# Variables to keep track of the most similar face match we've found\n",
    "best_face_distance = 1.0\n",
    "best_face_image = None\n",
    "\n",
    "# Loop over all the images we want to check for similar people\n",
    "for image_path in Path(\"people\").glob(\"*.png\"):\n",
    "    # Load an image to check\n",
    "    unknown_image = face_recognition.load_image_file(image_path)\n",
    "\n",
    "    # Get the location of faces and face encodings for the current image\n",
    "    face_encodings = face_recognition.face_encodings(unknown_image)\n",
    "\n",
    "    # Get the face distance between the known person and all the faces in this image\n",
    "    face_distance = face_recognition.face_distance(face_encodings, known_image_encoding)[0] #use [0] since there is one person in the testing photo\n",
    "\n",
    "    # If this face is more similar to our known image than we've seen so far, save it\n",
    "    if face_distance < best_face_distance:\n",
    "        # Save the new best face distance\n",
    "        best_face_distance = face_distance\n",
    "        # Extract a copy of the actual face image itself so we can display it\n",
    "        best_face_image = unknown_image\n",
    "\n",
    "# Display the face image that we found to be the best match!\n",
    "pil_image = Image.fromarray(best_face_image)\n",
    "pil_image.show()\n"
   ]
  }
 ],
 "metadata": {
  "kernelspec": {
   "display_name": "Python 3",
   "language": "python",
   "name": "python3"
  },
  "language_info": {
   "codemirror_mode": {
    "name": "ipython",
    "version": 3
   },
   "file_extension": ".py",
   "mimetype": "text/x-python",
   "name": "python",
   "nbconvert_exporter": "python",
   "pygments_lexer": "ipython3",
   "version": "3.8.2"
  }
 },
 "nbformat": 4,
 "nbformat_minor": 5
}
