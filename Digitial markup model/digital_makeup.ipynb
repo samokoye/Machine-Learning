{
 "cells": [
  {
   "cell_type": "code",
   "execution_count": 2,
   "id": "75505eeb",
   "metadata": {},
   "outputs": [],
   "source": [
    "from PIL import Image, ImageDraw\n",
    "import face_recognition\n",
    "\n",
    "# Load the jpg file into a numpy array\n",
    "image = face_recognition.load_image_file('people.jpg')\n",
    "\n",
    "# Find all facial features in all the faces in the image\n",
    "face_landmarks_list = face_recognition.face_landmarks(image)\n",
    "\n",
    "# Load the image into a Python Image Library object so that we can draw on top of it and display it\n",
    "pil_image = Image.fromarray(image)\n",
    "\n",
    "# Create a PIL drawing object to be able to draw lines later\n",
    "d = ImageDraw.Draw(pil_image, 'RGBA')\n",
    "\n",
    "for face_landmarks in face_landmarks_list:\n",
    "    # The face landmark detection model returns these features:\n",
    "    #  - chin, left_eyebrow, right_eyebrow, nose_bridge, nose_tip, left_eye, right_eye, top_lip, bottom_lip\n",
    "\n",
    "    # Draw a line over the eyebrows\n",
    "    d.line(face_landmarks[\"left_eyebrow\"], fill = (128, 0, 128, 100), width = 3)\n",
    "    d.line(face_landmarks[\"right_eyebrow\"], fill = (128, 0, 128, 100), width = 3)\n",
    "\n",
    "    # Draw over the lips\n",
    "    d.polygon(face_landmarks[\"top_lip\"], fill = (128, 0, 128, 100))\n",
    "    d.polygon(face_landmarks[\"bottom_lip\"], fill = (128, 0, 128, 100))\n",
    "\n",
    "\n",
    "\n",
    "# Show the final image\n",
    "pil_image.show()\n"
   ]
  },
  {
   "cell_type": "code",
   "execution_count": null,
   "id": "4b1df04c",
   "metadata": {},
   "outputs": [],
   "source": []
  }
 ],
 "metadata": {
  "kernelspec": {
   "display_name": "Python 3",
   "language": "python",
   "name": "python3"
  },
  "language_info": {
   "codemirror_mode": {
    "name": "ipython",
    "version": 3
   },
   "file_extension": ".py",
   "mimetype": "text/x-python",
   "name": "python",
   "nbconvert_exporter": "python",
   "pygments_lexer": "ipython3",
   "version": "3.8.2"
  }
 },
 "nbformat": 4,
 "nbformat_minor": 5
}
