{
 "cells": [
  {
   "cell_type": "markdown",
   "id": "7754140a",
   "metadata": {},
   "source": [
    "# Springboard Capstone 3-Data Wrangling and EDA"
   ]
  },
  {
   "cell_type": "markdown",
   "id": "01f97e4a",
   "metadata": {},
   "source": [
    "# Image Processing: Face recognition system"
   ]
  },
  {
   "cell_type": "markdown",
   "id": "e38607df",
   "metadata": {},
   "source": [
    "Image processing is used for everything from automatically tagging pictures in social media to unlocking our phones. Recent advancements in deep learning have made the accuracy of face recognition better. In this project, I will like to use the Humans dataset to develop a face recognition system that can detect faces in images, identify the faces, and modify faces with digital makeup. I will start by setting up a development environment, and then train machine learning models to analyze images and identify facial landmarks. I will also code the facial feature detection, representing a face as a set of measurements, and encoding faces. Lastly, I will repurpose and adjust any of the existing ML systems I built.\n",
    "\n",
    "The dataset was taken from Kaggle(https://www.kaggle.com/ashwingupta3012/human-faces?select=Humans). It has a collection of 7.2k+ images. It has a mix of front face, side profile pictures which will help achieve great identifying results and an improved range of classifier/recognition possibilities."
   ]
  },
  {
   "cell_type": "markdown",
   "id": "9a423919",
   "metadata": {},
   "source": [
    "# Deliverables"
   ]
  },
  {
   "cell_type": "raw",
   "id": "cd402873",
   "metadata": {},
   "source": [
    "\n",
    "Detecting faces in images.\n",
    "Analyzing a histogram of oriented gradients (HOG)\n",
    "Identifying faces in images.\n",
    "Locating facial features in images.\n",
    "Coding for face detection.\n",
    "Finding lookalikes using face detection.\n",
    "Generating face encoding automatically.\n",
    "Use of OpenCV: leverage the image-processing power of OpenCV using methods like template matching and machine learning data to identify and recognize features."
   ]
  },
  {
   "cell_type": "code",
   "execution_count": 8,
   "id": "12786816",
   "metadata": {},
   "outputs": [],
   "source": [
    "import os\n",
    "import numpy as np\n",
    "import matplotlib.pyplot as plt\n",
    "from tensorflow.keras.preprocessing import image\n",
    "from skimage import color\n",
    "from skimage import io, filters, transform, restoration, measure, segmentation\n",
    "%matplotlib inline"
   ]
  },
  {
   "cell_type": "code",
   "execution_count": null,
   "id": "edf63c0f",
   "metadata": {},
   "outputs": [],
   "source": [
    "train_dir = 'DATA/train' # image folder\n",
    "\n",
    "# get the list of jpegs from sub image class folders\n",
    "normal_imgs = [fn for fn in os.listdir(f'{train_dir}/NORMAL') if fn.endswith('.jpeg')]\n",
    "pneumo_imgs = [fn for fn in os.listdir(f'{train_dir}/PNEUMONIA') if fn.endswith('.jpeg')]"
   ]
  }
 ],
 "metadata": {
  "kernelspec": {
   "display_name": "Python 3",
   "language": "python",
   "name": "python3"
  },
  "language_info": {
   "codemirror_mode": {
    "name": "ipython",
    "version": 3
   },
   "file_extension": ".py",
   "mimetype": "text/x-python",
   "name": "python",
   "nbconvert_exporter": "python",
   "pygments_lexer": "ipython3",
   "version": "3.8.2"
  }
 },
 "nbformat": 4,
 "nbformat_minor": 5
}
