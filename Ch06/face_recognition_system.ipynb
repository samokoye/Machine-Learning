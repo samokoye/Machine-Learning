{
 "cells": [
  {
   "cell_type": "code",
   "execution_count": 5,
   "id": "27260be8",
   "metadata": {},
   "outputs": [
    {
     "name": "stdout",
     "output_type": "stream",
     "text": [
      "Found Person 1 in the photo!\n",
      "Found Person 3 in the photo!\n"
     ]
    }
   ],
   "source": [
    "import face_recognition\n",
    "\n",
    "# Load the known images\n",
    "image_of_person_1 = face_recognition.load_image_file('person_1.jpg')\n",
    "image_of_person_2 = face_recognition.load_image_file('person_2.jpg')\n",
    "image_of_person_3 = face_recognition.load_image_file('person_3.jpg')\n",
    "\n",
    "\n",
    "\n",
    "# Get the face encoding of each person. This can fail if no one is found in the photo.\n",
    "person_1_face_encodings = face_recognition.face_encodings(image_of_person_1)[0] #only use [0] if the photo has only one person in it\n",
    "person_2_face_encodings = face_recognition.face_encodings(image_of_person_2)[0]\n",
    "person_3_face_encodings = face_recognition.face_encodings(image_of_person_3)[0]\n",
    "\n",
    "# Create a list of all known face encodings\n",
    "known_face_encodings = [ person_1_face_encodings, person_2_face_encodings, person_3_face_encodings]\n",
    "\n",
    "# Load the image we want to check\n",
    "unknown_image = face_recognition.load_image_file('unknown_5.jpg')\n",
    "\n",
    "# Get face encodings for any people in the picture\n",
    "unknown_face_encodings = face_recognition.face_encodings(unknown_image)\n",
    "\n",
    "# There might be more than one person in the photo, so we need to loop over each face we found\n",
    "for unknown_face_encoding in unknown_face_encodings:\n",
    "\n",
    "    # Test if this unknown face encoding matches any of the three people we know\n",
    "    results = face_recognition.compare_faces(known_face_encodings, unknown_face_encoding, tolerance=0.6)\n",
    "\n",
    "    name = \"Unknown\"\n",
    "\n",
    "    if results[0]:\n",
    "        name = \"Person 1\"\n",
    "    elif results[1]:\n",
    "        name = \"Person 2\"\n",
    "    elif results[2]:\n",
    "        name = \"Person 3\"\n",
    "\n",
    "    print(f\"Found {name} in the photo!\")\n"
   ]
  },
  {
   "cell_type": "code",
   "execution_count": null,
   "id": "058d7c49",
   "metadata": {},
   "outputs": [],
   "source": []
  }
 ],
 "metadata": {
  "kernelspec": {
   "display_name": "Python 3",
   "language": "python",
   "name": "python3"
  },
  "language_info": {
   "codemirror_mode": {
    "name": "ipython",
    "version": 3
   },
   "file_extension": ".py",
   "mimetype": "text/x-python",
   "name": "python",
   "nbconvert_exporter": "python",
   "pygments_lexer": "ipython3",
   "version": "3.8.2"
  }
 },
 "nbformat": 4,
 "nbformat_minor": 5
}
