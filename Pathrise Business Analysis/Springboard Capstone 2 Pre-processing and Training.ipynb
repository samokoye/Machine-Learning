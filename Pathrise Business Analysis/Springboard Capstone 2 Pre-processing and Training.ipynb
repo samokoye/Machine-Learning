{
 "cells": [
  {
   "cell_type": "markdown",
   "id": "f8c1946f",
   "metadata": {},
   "source": [
    "# Capstone Two - Pre-processing and Training Data Development"
   ]
  },
  {
   "cell_type": "markdown",
   "id": "e52abcfb",
   "metadata": {},
   "source": [
    "# About Pathrise"
   ]
  },
  {
   "cell_type": "markdown",
   "id": "996da4d3",
   "metadata": {},
   "source": [
    "Pathrise is an online program that provides 1-on-1 mentorship, training, and advice to help job seekers get the best possible jobs in tech. Every two weeks, Pathrise welcomes a new cohort of fellows. If a candidate is interested in joining our program and successfully passes all stages of our admission process, they receive an offer to join Pathrise and become a fellow. The first 2 weeks in the program are called a free trial period and a fellow can withdraw within this free trial period without any penalty. After 2 weeks, a fellow needs to sign an ISA (Income Share Agreement) with us if they want to stay in the program. The entire program lasts up to a year, including 8 weeks of the core curriculum. If a fellow is unable to find a job within a year after joining Pathrise, his/her contract is terminated. However, there might be some exceptions. For instance, if someone was on a break, we may extend their contract for the period of the break. \n",
    "\n",
    "On average, for fellows who stay with us after their free trial period, it takes about 4 months to receive a final job offer. However, there is a lot of variation in fellows’ outcomes. Being able to predict how fast every single fellow is going to find a job is crucial for our business.\n",
    " "
   ]
  },
  {
   "cell_type": "markdown",
   "id": "162d0d22",
   "metadata": {},
   "source": [
    "# Analysis Goal"
   ]
  },
  {
   "cell_type": "markdown",
   "id": "027ed73d",
   "metadata": {},
   "source": [
    "The main goal of this analysis is to derive insights around if a fellow will ultimately be placed at a company and how long until a placement can be expected."
   ]
  },
  {
   "cell_type": "markdown",
   "id": "e4b71ec1",
   "metadata": {},
   "source": [
    "# Data wrangling"
   ]
  },
  {
   "cell_type": "markdown",
   "id": "56556681",
   "metadata": {},
   "source": [
    "I will start by importing the data I collected from Pathrise. I will organizing the data, and making sure it's well defined before exploring the data."
   ]
  },
  {
   "cell_type": "code",
   "execution_count": 108,
   "id": "64030a54",
   "metadata": {},
   "outputs": [],
   "source": [
    "#import data wrangling Libraries\n",
    "import pandas as pd\n",
    "import numpy as np\n",
    "import pickle\n",
    "\n",
    "import matplotlib.pyplot as plt\n",
    "import seaborn as sns\n",
    "import os\n",
    "from sklearn.dummy import DummyRegressor\n",
    "\n",
    "from sklearn import __version__ as sklearn_version\n",
    "from sklearn.decomposition import PCA\n",
    "from sklearn.preprocessing import scale\n",
    "from sklearn.model_selection import train_test_split, cross_validate, GridSearchCV, learning_curve\n",
    "from sklearn.preprocessing import StandardScaler, MinMaxScaler\n",
    "from sklearn.dummy import DummyRegressor\n",
    "from sklearn.linear_model import LinearRegression\n",
    "from sklearn.ensemble import RandomForestRegressor\n",
    "from sklearn.metrics import r2_score, mean_squared_error, mean_absolute_error\n",
    "from sklearn.pipeline import make_pipeline\n",
    "from sklearn.impute import SimpleImputer\n",
    "from sklearn.feature_selection import SelectKBest, f_regression"
   ]
  },
  {
   "cell_type": "code",
   "execution_count": 109,
   "id": "300c4bdb",
   "metadata": {},
   "outputs": [],
   "source": [
    "#loading the data from Pathrise company. I assigned it to df as in data frame using pandas\n",
    "df=pd.read_csv(\"Data_Pathrise.csv\")"
   ]
  },
  {
   "cell_type": "code",
   "execution_count": 110,
   "id": "1d862a31",
   "metadata": {},
   "outputs": [
    {
     "data": {
      "text/html": [
       "<div>\n",
       "<style scoped>\n",
       "    .dataframe tbody tr th:only-of-type {\n",
       "        vertical-align: middle;\n",
       "    }\n",
       "\n",
       "    .dataframe tbody tr th {\n",
       "        vertical-align: top;\n",
       "    }\n",
       "\n",
       "    .dataframe thead th {\n",
       "        text-align: right;\n",
       "    }\n",
       "</style>\n",
       "<table border=\"1\" class=\"dataframe\">\n",
       "  <thead>\n",
       "    <tr style=\"text-align: right;\">\n",
       "      <th></th>\n",
       "      <th>id</th>\n",
       "      <th>company_status</th>\n",
       "      <th>primary_track</th>\n",
       "      <th>cohort_tag</th>\n",
       "      <th>program_duration_days</th>\n",
       "      <th>placed</th>\n",
       "      <th>employment_status</th>\n",
       "      <th>highest_level_of_education</th>\n",
       "      <th>length_of_job_search</th>\n",
       "      <th>biggest_challenge_in_search</th>\n",
       "      <th>professional_experience</th>\n",
       "      <th>work_authorization_status</th>\n",
       "      <th>number_of_interviews</th>\n",
       "      <th>number_of_applications</th>\n",
       "      <th>gender</th>\n",
       "      <th>race</th>\n",
       "    </tr>\n",
       "  </thead>\n",
       "  <tbody>\n",
       "    <tr>\n",
       "      <th>0</th>\n",
       "      <td>1</td>\n",
       "      <td>Active</td>\n",
       "      <td>SWE</td>\n",
       "      <td>OCT19A</td>\n",
       "      <td>NaN</td>\n",
       "      <td>0</td>\n",
       "      <td>Unemployed</td>\n",
       "      <td>Bachelor's Degree</td>\n",
       "      <td>3-5 months</td>\n",
       "      <td>Hearing back on my applications</td>\n",
       "      <td>3-4 years</td>\n",
       "      <td>Canada Citizen</td>\n",
       "      <td>2.0</td>\n",
       "      <td>900</td>\n",
       "      <td>Male</td>\n",
       "      <td>Non-Hispanic White or Euro-American</td>\n",
       "    </tr>\n",
       "    <tr>\n",
       "      <th>1</th>\n",
       "      <td>2</td>\n",
       "      <td>Active</td>\n",
       "      <td>PSO</td>\n",
       "      <td>JAN20A</td>\n",
       "      <td>NaN</td>\n",
       "      <td>0</td>\n",
       "      <td>Unemployed</td>\n",
       "      <td>Some College, No Degree</td>\n",
       "      <td>3-5 months</td>\n",
       "      <td>Getting past final round interviews</td>\n",
       "      <td>1-2 years</td>\n",
       "      <td>Citizen</td>\n",
       "      <td>6.0</td>\n",
       "      <td>0</td>\n",
       "      <td>Male</td>\n",
       "      <td>Non-Hispanic White or Euro-American</td>\n",
       "    </tr>\n",
       "    <tr>\n",
       "      <th>2</th>\n",
       "      <td>3</td>\n",
       "      <td>Closed Lost</td>\n",
       "      <td>Design</td>\n",
       "      <td>AUG19B</td>\n",
       "      <td>0.0</td>\n",
       "      <td>0</td>\n",
       "      <td>Employed Part-Time</td>\n",
       "      <td>Master's Degree</td>\n",
       "      <td>Less than one month</td>\n",
       "      <td>Figuring out which jobs to apply for</td>\n",
       "      <td>Less than one year</td>\n",
       "      <td>Citizen</td>\n",
       "      <td>0.0</td>\n",
       "      <td>0</td>\n",
       "      <td>Male</td>\n",
       "      <td>East Asian or Asian American</td>\n",
       "    </tr>\n",
       "    <tr>\n",
       "      <th>3</th>\n",
       "      <td>4</td>\n",
       "      <td>Closed Lost</td>\n",
       "      <td>PSO</td>\n",
       "      <td>AUG19B</td>\n",
       "      <td>0.0</td>\n",
       "      <td>0</td>\n",
       "      <td>Contractor</td>\n",
       "      <td>Bachelor's Degree</td>\n",
       "      <td>Less than one month</td>\n",
       "      <td>Getting past final round interviews</td>\n",
       "      <td>Less than one year</td>\n",
       "      <td>Citizen</td>\n",
       "      <td>5.0</td>\n",
       "      <td>25</td>\n",
       "      <td>Male</td>\n",
       "      <td>Decline to Self Identify</td>\n",
       "    </tr>\n",
       "    <tr>\n",
       "      <th>4</th>\n",
       "      <td>5</td>\n",
       "      <td>Placed</td>\n",
       "      <td>SWE</td>\n",
       "      <td>AUG19A</td>\n",
       "      <td>89.0</td>\n",
       "      <td>1</td>\n",
       "      <td>Unemployed</td>\n",
       "      <td>Bachelor's Degree</td>\n",
       "      <td>1-2 months</td>\n",
       "      <td>Hearing back on my applications</td>\n",
       "      <td>1-2 years</td>\n",
       "      <td>F1 Visa/OPT</td>\n",
       "      <td>10.0</td>\n",
       "      <td>100</td>\n",
       "      <td>Male</td>\n",
       "      <td>East Asian or Asian American</td>\n",
       "    </tr>\n",
       "    <tr>\n",
       "      <th>5</th>\n",
       "      <td>6</td>\n",
       "      <td>Closed Lost</td>\n",
       "      <td>SWE</td>\n",
       "      <td>AUG19A</td>\n",
       "      <td>0.0</td>\n",
       "      <td>0</td>\n",
       "      <td>Employed Full-Time</td>\n",
       "      <td>Master's Degree</td>\n",
       "      <td>1-2 months</td>\n",
       "      <td>Technical interviewing</td>\n",
       "      <td>3-4 years</td>\n",
       "      <td>Green Card</td>\n",
       "      <td>5.0</td>\n",
       "      <td>100</td>\n",
       "      <td>Male</td>\n",
       "      <td>East Asian or Asian American</td>\n",
       "    </tr>\n",
       "    <tr>\n",
       "      <th>6</th>\n",
       "      <td>7</td>\n",
       "      <td>Closed Lost</td>\n",
       "      <td>SWE</td>\n",
       "      <td>AUG19B</td>\n",
       "      <td>0.0</td>\n",
       "      <td>0</td>\n",
       "      <td>Employed Full-Time</td>\n",
       "      <td>Master's Degree</td>\n",
       "      <td>Less than one month</td>\n",
       "      <td>Getting past phone screens</td>\n",
       "      <td>3-4 years</td>\n",
       "      <td>Green Card</td>\n",
       "      <td>0.0</td>\n",
       "      <td>9</td>\n",
       "      <td>Male</td>\n",
       "      <td>Black, Afro-Caribbean, or African American</td>\n",
       "    </tr>\n",
       "    <tr>\n",
       "      <th>7</th>\n",
       "      <td>8</td>\n",
       "      <td>Withdrawn (Failed)</td>\n",
       "      <td>SWE</td>\n",
       "      <td>AUG19A</td>\n",
       "      <td>19.0</td>\n",
       "      <td>0</td>\n",
       "      <td>Employed Part-Time</td>\n",
       "      <td>Bachelor's Degree</td>\n",
       "      <td>Less than one month</td>\n",
       "      <td>Getting past final round interviews</td>\n",
       "      <td>1-2 years</td>\n",
       "      <td>Citizen</td>\n",
       "      <td>4.0</td>\n",
       "      <td>15</td>\n",
       "      <td>Female</td>\n",
       "      <td>Latino or Hispanic American</td>\n",
       "    </tr>\n",
       "    <tr>\n",
       "      <th>8</th>\n",
       "      <td>9</td>\n",
       "      <td>Active</td>\n",
       "      <td>SWE</td>\n",
       "      <td>AUG19B</td>\n",
       "      <td>NaN</td>\n",
       "      <td>0</td>\n",
       "      <td>Student</td>\n",
       "      <td>Master's Degree</td>\n",
       "      <td>Less than one month</td>\n",
       "      <td>Technical interviewing</td>\n",
       "      <td>1-2 years</td>\n",
       "      <td>F1 Visa/CPT</td>\n",
       "      <td>1.0</td>\n",
       "      <td>5</td>\n",
       "      <td>Male</td>\n",
       "      <td>East Asian or Asian American</td>\n",
       "    </tr>\n",
       "    <tr>\n",
       "      <th>9</th>\n",
       "      <td>10</td>\n",
       "      <td>Withdrawn (Trial)</td>\n",
       "      <td>SWE</td>\n",
       "      <td>SEP19A</td>\n",
       "      <td>13.0</td>\n",
       "      <td>0</td>\n",
       "      <td>Employed Full-Time</td>\n",
       "      <td>Master's Degree</td>\n",
       "      <td>Less than one month</td>\n",
       "      <td>Getting past final round interviews</td>\n",
       "      <td>3-4 years</td>\n",
       "      <td>Citizen</td>\n",
       "      <td>0.0</td>\n",
       "      <td>10</td>\n",
       "      <td>Male</td>\n",
       "      <td>Black, Afro-Caribbean, or African American</td>\n",
       "    </tr>\n",
       "  </tbody>\n",
       "</table>\n",
       "</div>"
      ],
      "text/plain": [
       "   id      company_status primary_track cohort_tag  program_duration_days  \\\n",
       "0   1              Active           SWE     OCT19A                    NaN   \n",
       "1   2              Active           PSO     JAN20A                    NaN   \n",
       "2   3         Closed Lost        Design     AUG19B                    0.0   \n",
       "3   4         Closed Lost           PSO     AUG19B                    0.0   \n",
       "4   5              Placed           SWE     AUG19A                   89.0   \n",
       "5   6         Closed Lost           SWE     AUG19A                    0.0   \n",
       "6   7         Closed Lost           SWE     AUG19B                    0.0   \n",
       "7   8  Withdrawn (Failed)           SWE     AUG19A                   19.0   \n",
       "8   9              Active           SWE     AUG19B                    NaN   \n",
       "9  10   Withdrawn (Trial)           SWE     SEP19A                   13.0   \n",
       "\n",
       "   placed  employment_status  highest_level_of_education length_of_job_search  \\\n",
       "0       0          Unemployed          Bachelor's Degree           3-5 months   \n",
       "1       0          Unemployed    Some College, No Degree           3-5 months   \n",
       "2       0  Employed Part-Time            Master's Degree  Less than one month   \n",
       "3       0          Contractor          Bachelor's Degree  Less than one month   \n",
       "4       1          Unemployed          Bachelor's Degree           1-2 months   \n",
       "5       0  Employed Full-Time            Master's Degree           1-2 months   \n",
       "6       0  Employed Full-Time            Master's Degree  Less than one month   \n",
       "7       0  Employed Part-Time          Bachelor's Degree  Less than one month   \n",
       "8       0             Student            Master's Degree  Less than one month   \n",
       "9       0  Employed Full-Time            Master's Degree  Less than one month   \n",
       "\n",
       "            biggest_challenge_in_search professional_experience  \\\n",
       "0       Hearing back on my applications               3-4 years   \n",
       "1   Getting past final round interviews               1-2 years   \n",
       "2  Figuring out which jobs to apply for      Less than one year   \n",
       "3   Getting past final round interviews      Less than one year   \n",
       "4       Hearing back on my applications               1-2 years   \n",
       "5                Technical interviewing               3-4 years   \n",
       "6            Getting past phone screens               3-4 years   \n",
       "7   Getting past final round interviews               1-2 years   \n",
       "8                Technical interviewing               1-2 years   \n",
       "9   Getting past final round interviews               3-4 years   \n",
       "\n",
       "  work_authorization_status  number_of_interviews  number_of_applications  \\\n",
       "0            Canada Citizen                   2.0                     900   \n",
       "1                   Citizen                   6.0                       0   \n",
       "2                   Citizen                   0.0                       0   \n",
       "3                   Citizen                   5.0                      25   \n",
       "4               F1 Visa/OPT                  10.0                     100   \n",
       "5                Green Card                   5.0                     100   \n",
       "6                Green Card                   0.0                       9   \n",
       "7                   Citizen                   4.0                      15   \n",
       "8               F1 Visa/CPT                   1.0                       5   \n",
       "9                   Citizen                   0.0                      10   \n",
       "\n",
       "   gender                                        race  \n",
       "0    Male         Non-Hispanic White or Euro-American  \n",
       "1    Male         Non-Hispanic White or Euro-American  \n",
       "2    Male                East Asian or Asian American  \n",
       "3    Male                    Decline to Self Identify  \n",
       "4    Male                East Asian or Asian American  \n",
       "5    Male                East Asian or Asian American  \n",
       "6    Male  Black, Afro-Caribbean, or African American  \n",
       "7  Female                 Latino or Hispanic American  \n",
       "8    Male                East Asian or Asian American  \n",
       "9    Male  Black, Afro-Caribbean, or African American  "
      ]
     },
     "execution_count": 110,
     "metadata": {},
     "output_type": "execute_result"
    }
   ],
   "source": [
    "#I want to see what is in the first 10 rows.\n",
    "df.head(10)"
   ]
  },
  {
   "cell_type": "markdown",
   "id": "7ec38ab4",
   "metadata": {},
   "source": [
    "there seems to be some NANs in the dataset. I want more insight, so i will use the describe() function"
   ]
  },
  {
   "cell_type": "code",
   "execution_count": 111,
   "id": "267d5881",
   "metadata": {},
   "outputs": [
    {
     "data": {
      "text/html": [
       "<div>\n",
       "<style scoped>\n",
       "    .dataframe tbody tr th:only-of-type {\n",
       "        vertical-align: middle;\n",
       "    }\n",
       "\n",
       "    .dataframe tbody tr th {\n",
       "        vertical-align: top;\n",
       "    }\n",
       "\n",
       "    .dataframe thead th {\n",
       "        text-align: right;\n",
       "    }\n",
       "</style>\n",
       "<table border=\"1\" class=\"dataframe\">\n",
       "  <thead>\n",
       "    <tr style=\"text-align: right;\">\n",
       "      <th></th>\n",
       "      <th>id</th>\n",
       "      <th>program_duration_days</th>\n",
       "      <th>placed</th>\n",
       "      <th>number_of_interviews</th>\n",
       "      <th>number_of_applications</th>\n",
       "    </tr>\n",
       "  </thead>\n",
       "  <tbody>\n",
       "    <tr>\n",
       "      <th>count</th>\n",
       "      <td>2544.000000</td>\n",
       "      <td>1928.000000</td>\n",
       "      <td>2544.000000</td>\n",
       "      <td>2326.000000</td>\n",
       "      <td>2544.000000</td>\n",
       "    </tr>\n",
       "    <tr>\n",
       "      <th>mean</th>\n",
       "      <td>1272.500000</td>\n",
       "      <td>136.098548</td>\n",
       "      <td>0.375786</td>\n",
       "      <td>2.182287</td>\n",
       "      <td>36.500786</td>\n",
       "    </tr>\n",
       "    <tr>\n",
       "      <th>std</th>\n",
       "      <td>734.533866</td>\n",
       "      <td>125.860248</td>\n",
       "      <td>0.484420</td>\n",
       "      <td>2.959273</td>\n",
       "      <td>53.654896</td>\n",
       "    </tr>\n",
       "    <tr>\n",
       "      <th>min</th>\n",
       "      <td>1.000000</td>\n",
       "      <td>0.000000</td>\n",
       "      <td>0.000000</td>\n",
       "      <td>0.000000</td>\n",
       "      <td>0.000000</td>\n",
       "    </tr>\n",
       "    <tr>\n",
       "      <th>25%</th>\n",
       "      <td>636.750000</td>\n",
       "      <td>14.000000</td>\n",
       "      <td>0.000000</td>\n",
       "      <td>0.000000</td>\n",
       "      <td>9.000000</td>\n",
       "    </tr>\n",
       "    <tr>\n",
       "      <th>50%</th>\n",
       "      <td>1272.500000</td>\n",
       "      <td>112.000000</td>\n",
       "      <td>0.000000</td>\n",
       "      <td>1.000000</td>\n",
       "      <td>20.000000</td>\n",
       "    </tr>\n",
       "    <tr>\n",
       "      <th>75%</th>\n",
       "      <td>1908.250000</td>\n",
       "      <td>224.000000</td>\n",
       "      <td>1.000000</td>\n",
       "      <td>3.000000</td>\n",
       "      <td>45.000000</td>\n",
       "    </tr>\n",
       "    <tr>\n",
       "      <th>max</th>\n",
       "      <td>2544.000000</td>\n",
       "      <td>548.000000</td>\n",
       "      <td>1.000000</td>\n",
       "      <td>20.000000</td>\n",
       "      <td>1000.000000</td>\n",
       "    </tr>\n",
       "  </tbody>\n",
       "</table>\n",
       "</div>"
      ],
      "text/plain": [
       "                id  program_duration_days       placed  number_of_interviews  \\\n",
       "count  2544.000000            1928.000000  2544.000000           2326.000000   \n",
       "mean   1272.500000             136.098548     0.375786              2.182287   \n",
       "std     734.533866             125.860248     0.484420              2.959273   \n",
       "min       1.000000               0.000000     0.000000              0.000000   \n",
       "25%     636.750000              14.000000     0.000000              0.000000   \n",
       "50%    1272.500000             112.000000     0.000000              1.000000   \n",
       "75%    1908.250000             224.000000     1.000000              3.000000   \n",
       "max    2544.000000             548.000000     1.000000             20.000000   \n",
       "\n",
       "       number_of_applications  \n",
       "count             2544.000000  \n",
       "mean                36.500786  \n",
       "std                 53.654896  \n",
       "min                  0.000000  \n",
       "25%                  9.000000  \n",
       "50%                 20.000000  \n",
       "75%                 45.000000  \n",
       "max               1000.000000  "
      ]
     },
     "execution_count": 111,
     "metadata": {},
     "output_type": "execute_result"
    }
   ],
   "source": [
    "df.describe()"
   ]
  },
  {
   "cell_type": "code",
   "execution_count": 112,
   "id": "d1a9e07a",
   "metadata": {},
   "outputs": [
    {
     "data": {
      "text/plain": [
       "(2544, 16)"
      ]
     },
     "execution_count": 112,
     "metadata": {},
     "output_type": "execute_result"
    }
   ],
   "source": [
    "#i want to know how many columns and rows i am dealing with. so i will call the .shape function\n",
    "df.shape"
   ]
  },
  {
   "cell_type": "code",
   "execution_count": 113,
   "id": "5bcf9c0c",
   "metadata": {},
   "outputs": [
    {
     "name": "stdout",
     "output_type": "stream",
     "text": [
      "<class 'pandas.core.frame.DataFrame'>\n",
      "RangeIndex: 2544 entries, 0 to 2543\n",
      "Data columns (total 16 columns):\n",
      " #   Column                       Non-Null Count  Dtype  \n",
      "---  ------                       --------------  -----  \n",
      " 0   id                           2544 non-null   int64  \n",
      " 1   company_status               2544 non-null   object \n",
      " 2   primary_track                2544 non-null   object \n",
      " 3   cohort_tag                   2536 non-null   object \n",
      " 4   program_duration_days        1928 non-null   float64\n",
      " 5   placed                       2544 non-null   int64  \n",
      " 6   employment_status            2315 non-null   object \n",
      " 7   highest_level_of_education   2486 non-null   object \n",
      " 8   length_of_job_search         2470 non-null   object \n",
      " 9   biggest_challenge_in_search  2520 non-null   object \n",
      " 10  professional_experience      2322 non-null   object \n",
      " 11  work_authorization_status    2260 non-null   object \n",
      " 12  number_of_interviews         2326 non-null   float64\n",
      " 13  number_of_applications       2544 non-null   int64  \n",
      " 14  gender                       2052 non-null   object \n",
      " 15  race                         2526 non-null   object \n",
      "dtypes: float64(2), int64(3), object(11)\n",
      "memory usage: 318.1+ KB\n"
     ]
    }
   ],
   "source": [
    "#i want to explore the data type of each column\n",
    "df.info() "
   ]
  },
  {
   "cell_type": "markdown",
   "id": "bd091897",
   "metadata": {},
   "source": [
    "I see that the \"placed\" column is int64. I will need this column and program_duration_days in the future to predict which fellow will be placed or not. This is not final as I need to explore the data more to actually figure out what to do in my regression analysis. "
   ]
  },
  {
   "cell_type": "markdown",
   "id": "5fd56ca7",
   "metadata": {},
   "source": [
    "# Exploratory Data Analysis"
   ]
  },
  {
   "cell_type": "code",
   "execution_count": 114,
   "id": "f6f8a708",
   "metadata": {},
   "outputs": [
    {
     "data": {
      "text/plain": [
       "0       0\n",
       "1       0\n",
       "2       0\n",
       "3       0\n",
       "4       1\n",
       "       ..\n",
       "2539    0\n",
       "2540    0\n",
       "2541    0\n",
       "2542    0\n",
       "2543    0\n",
       "Name: placed, Length: 2544, dtype: int64"
      ]
     },
     "execution_count": 114,
     "metadata": {},
     "output_type": "execute_result"
    }
   ],
   "source": [
    "#I want to filter my column of interest \"placed\" to have a better look using the transpose function\n",
    "df.placed.T"
   ]
  },
  {
   "cell_type": "markdown",
   "id": "055c4c5d",
   "metadata": {},
   "source": [
    "From this information, it seems like placed with 1 might mean the fellow was placed while 0 means the fellow wasn't or droped out. I wonder if there are more insight on this and how is the rest of columns. I need to count the number of missing values for all the columns. "
   ]
  },
  {
   "cell_type": "code",
   "execution_count": 115,
   "id": "c5cdac96",
   "metadata": {},
   "outputs": [
    {
     "data": {
      "text/html": [
       "<div>\n",
       "<style scoped>\n",
       "    .dataframe tbody tr th:only-of-type {\n",
       "        vertical-align: middle;\n",
       "    }\n",
       "\n",
       "    .dataframe tbody tr th {\n",
       "        vertical-align: top;\n",
       "    }\n",
       "\n",
       "    .dataframe thead th {\n",
       "        text-align: right;\n",
       "    }\n",
       "</style>\n",
       "<table border=\"1\" class=\"dataframe\">\n",
       "  <thead>\n",
       "    <tr style=\"text-align: right;\">\n",
       "      <th></th>\n",
       "      <th>count</th>\n",
       "      <th>%</th>\n",
       "    </tr>\n",
       "  </thead>\n",
       "  <tbody>\n",
       "    <tr>\n",
       "      <th>program_duration_days</th>\n",
       "      <td>616</td>\n",
       "      <td>24.213836</td>\n",
       "    </tr>\n",
       "    <tr>\n",
       "      <th>gender</th>\n",
       "      <td>492</td>\n",
       "      <td>19.339623</td>\n",
       "    </tr>\n",
       "    <tr>\n",
       "      <th>work_authorization_status</th>\n",
       "      <td>284</td>\n",
       "      <td>11.163522</td>\n",
       "    </tr>\n",
       "    <tr>\n",
       "      <th>employment_status</th>\n",
       "      <td>229</td>\n",
       "      <td>9.001572</td>\n",
       "    </tr>\n",
       "    <tr>\n",
       "      <th>professional_experience</th>\n",
       "      <td>222</td>\n",
       "      <td>8.726415</td>\n",
       "    </tr>\n",
       "    <tr>\n",
       "      <th>number_of_interviews</th>\n",
       "      <td>218</td>\n",
       "      <td>8.569182</td>\n",
       "    </tr>\n",
       "    <tr>\n",
       "      <th>length_of_job_search</th>\n",
       "      <td>74</td>\n",
       "      <td>2.908805</td>\n",
       "    </tr>\n",
       "    <tr>\n",
       "      <th>highest_level_of_education</th>\n",
       "      <td>58</td>\n",
       "      <td>2.279874</td>\n",
       "    </tr>\n",
       "    <tr>\n",
       "      <th>biggest_challenge_in_search</th>\n",
       "      <td>24</td>\n",
       "      <td>0.943396</td>\n",
       "    </tr>\n",
       "    <tr>\n",
       "      <th>race</th>\n",
       "      <td>18</td>\n",
       "      <td>0.707547</td>\n",
       "    </tr>\n",
       "    <tr>\n",
       "      <th>cohort_tag</th>\n",
       "      <td>8</td>\n",
       "      <td>0.314465</td>\n",
       "    </tr>\n",
       "    <tr>\n",
       "      <th>id</th>\n",
       "      <td>0</td>\n",
       "      <td>0.000000</td>\n",
       "    </tr>\n",
       "    <tr>\n",
       "      <th>company_status</th>\n",
       "      <td>0</td>\n",
       "      <td>0.000000</td>\n",
       "    </tr>\n",
       "    <tr>\n",
       "      <th>primary_track</th>\n",
       "      <td>0</td>\n",
       "      <td>0.000000</td>\n",
       "    </tr>\n",
       "    <tr>\n",
       "      <th>placed</th>\n",
       "      <td>0</td>\n",
       "      <td>0.000000</td>\n",
       "    </tr>\n",
       "    <tr>\n",
       "      <th>number_of_applications</th>\n",
       "      <td>0</td>\n",
       "      <td>0.000000</td>\n",
       "    </tr>\n",
       "  </tbody>\n",
       "</table>\n",
       "</div>"
      ],
      "text/plain": [
       "                             count          %\n",
       "program_duration_days          616  24.213836\n",
       "gender                         492  19.339623\n",
       "work_authorization_status      284  11.163522\n",
       "employment_status              229   9.001572\n",
       "professional_experience        222   8.726415\n",
       "number_of_interviews           218   8.569182\n",
       "length_of_job_search            74   2.908805\n",
       "highest_level_of_education      58   2.279874\n",
       "biggest_challenge_in_search     24   0.943396\n",
       "race                            18   0.707547\n",
       "cohort_tag                       8   0.314465\n",
       "id                               0   0.000000\n",
       "company_status                   0   0.000000\n",
       "primary_track                    0   0.000000\n",
       "placed                           0   0.000000\n",
       "number_of_applications           0   0.000000"
      ]
     },
     "execution_count": 115,
     "metadata": {},
     "output_type": "execute_result"
    }
   ],
   "source": [
    "#count the number of missing values\n",
    "miss_value = pd.concat([df.isnull().sum(), 100 * df.isnull().mean()], axis=1)\n",
    "miss_value.columns=['count', '%']\n",
    "miss_value.sort_values(by=['%'],ascending=False)"
   ]
  },
  {
   "cell_type": "markdown",
   "id": "ec3a2758",
   "metadata": {},
   "source": [
    "24.21% of program_duration_day is missing. It would make sense to drop columns with missing values but the nature of the problem Pathrise is experience demands a thorough insight. Hence I will keep the column and since it is the column with the highest missing values, I will try and work with the rest for now except gender. I do not think gender will have any effect on whether a fellow is placed or not. "
   ]
  },
  {
   "cell_type": "code",
   "execution_count": 116,
   "id": "097260f8",
   "metadata": {
    "scrolled": true
   },
   "outputs": [],
   "source": [
    "#Dropping the gender column\n",
    "df=df.drop(['gender'], axis=1)\n",
    "df=df.drop(['id'], axis=1) #droping the id since it's pretty much row numbering"
   ]
  },
  {
   "cell_type": "code",
   "execution_count": 117,
   "id": "1b1feb36",
   "metadata": {},
   "outputs": [],
   "source": [
    "#I will drop rows with missing least values\n",
    "df.dropna(subset = ['biggest_challenge_in_search','cohort_tag', 'race'], inplace = True)"
   ]
  },
  {
   "cell_type": "code",
   "execution_count": 118,
   "id": "c30df82a",
   "metadata": {},
   "outputs": [],
   "source": [
    "# Exploring Categorical Features of the dataset"
   ]
  },
  {
   "cell_type": "markdown",
   "id": "034e0636",
   "metadata": {},
   "source": [
    "I want to make sure that there are no duplicates, that each column is unique. "
   ]
  },
  {
   "cell_type": "code",
   "execution_count": 119,
   "id": "42ec791c",
   "metadata": {},
   "outputs": [],
   "source": [
    "df_object = df.select_dtypes('object')"
   ]
  },
  {
   "cell_type": "code",
   "execution_count": 120,
   "id": "124f99d6",
   "metadata": {},
   "outputs": [
    {
     "data": {
      "text/plain": [
       "cohort_tag                     1\n",
       "company_status                 1\n",
       "length_of_job_search           1\n",
       "work_authorization_status      1\n",
       "highest_level_of_education     1\n",
       "biggest_challenge_in_search    1\n",
       "primary_track                  1\n",
       "employment_status              1\n",
       "professional_experience        1\n",
       "race                           1\n",
       "dtype: int64"
      ]
     },
     "execution_count": 120,
     "metadata": {},
     "output_type": "execute_result"
    }
   ],
   "source": [
    "df_object.columns.value_counts()"
   ]
  },
  {
   "cell_type": "markdown",
   "id": "f0705d1c",
   "metadata": {},
   "source": [
    "There are no duplicates."
   ]
  },
  {
   "cell_type": "markdown",
   "id": "c08bb882",
   "metadata": {},
   "source": [
    "Let's get some insight on each of the numerical feautures and see how they correlate to one another using .corr() function"
   ]
  },
  {
   "cell_type": "code",
   "execution_count": 121,
   "id": "2627c514",
   "metadata": {},
   "outputs": [
    {
     "data": {
      "text/html": [
       "<div>\n",
       "<style scoped>\n",
       "    .dataframe tbody tr th:only-of-type {\n",
       "        vertical-align: middle;\n",
       "    }\n",
       "\n",
       "    .dataframe tbody tr th {\n",
       "        vertical-align: top;\n",
       "    }\n",
       "\n",
       "    .dataframe thead th {\n",
       "        text-align: right;\n",
       "    }\n",
       "</style>\n",
       "<table border=\"1\" class=\"dataframe\">\n",
       "  <thead>\n",
       "    <tr style=\"text-align: right;\">\n",
       "      <th></th>\n",
       "      <th>program_duration_days</th>\n",
       "      <th>placed</th>\n",
       "      <th>number_of_interviews</th>\n",
       "      <th>number_of_applications</th>\n",
       "    </tr>\n",
       "  </thead>\n",
       "  <tbody>\n",
       "    <tr>\n",
       "      <th>program_duration_days</th>\n",
       "      <td>1.000000</td>\n",
       "      <td>0.196716</td>\n",
       "      <td>-0.065421</td>\n",
       "      <td>-0.061295</td>\n",
       "    </tr>\n",
       "    <tr>\n",
       "      <th>placed</th>\n",
       "      <td>0.196716</td>\n",
       "      <td>1.000000</td>\n",
       "      <td>-0.008074</td>\n",
       "      <td>-0.028331</td>\n",
       "    </tr>\n",
       "    <tr>\n",
       "      <th>number_of_interviews</th>\n",
       "      <td>-0.065421</td>\n",
       "      <td>-0.008074</td>\n",
       "      <td>1.000000</td>\n",
       "      <td>0.069849</td>\n",
       "    </tr>\n",
       "    <tr>\n",
       "      <th>number_of_applications</th>\n",
       "      <td>-0.061295</td>\n",
       "      <td>-0.028331</td>\n",
       "      <td>0.069849</td>\n",
       "      <td>1.000000</td>\n",
       "    </tr>\n",
       "  </tbody>\n",
       "</table>\n",
       "</div>"
      ],
      "text/plain": [
       "                        program_duration_days    placed  number_of_interviews  \\\n",
       "program_duration_days                1.000000  0.196716             -0.065421   \n",
       "placed                               0.196716  1.000000             -0.008074   \n",
       "number_of_interviews                -0.065421 -0.008074              1.000000   \n",
       "number_of_applications              -0.061295 -0.028331              0.069849   \n",
       "\n",
       "                        number_of_applications  \n",
       "program_duration_days                -0.061295  \n",
       "placed                               -0.028331  \n",
       "number_of_interviews                  0.069849  \n",
       "number_of_applications                1.000000  "
      ]
     },
     "execution_count": 121,
     "metadata": {},
     "output_type": "execute_result"
    }
   ],
   "source": [
    "df.corr()"
   ]
  },
  {
   "cell_type": "markdown",
   "id": "9fdf7458",
   "metadata": {},
   "source": [
    "INSIGHTS:\n",
    "placed and program_duration_days have a positive correlation followed by number_of_application and placed with -0.028331. Looking at the correlation table, it seems like the fellows that turned in less number of applications were most likely going to be placed compare to fellows that have been in the program for a long time. I will show this using a scatterplot to display the three variables at once "
   ]
  },
  {
   "cell_type": "code",
   "execution_count": 122,
   "id": "4cc1c28d",
   "metadata": {},
   "outputs": [
    {
     "data": {
      "text/plain": [
       "<AxesSubplot:xlabel='number_of_applications', ylabel='program_duration_days'>"
      ]
     },
     "execution_count": 122,
     "metadata": {},
     "output_type": "execute_result"
    },
    {
     "data": {
      "image/png": "[encoded data removed]",
      "text/plain": [
       "<Figure size 432x288 with 1 Axes>"
      ]
     },
     "metadata": {
      "needs_background": "light"
     },
     "output_type": "display_data"
    }
   ],
   "source": [
    "sns.scatterplot(data=df, y=\"program_duration_days\", x=\"number_of_applications\", hue=\"placed\", s= 30, color=\".2\")"
   ]
  },
  {
   "cell_type": "markdown",
   "id": "5d8ac5fd",
   "metadata": {},
   "source": [
    "placed means 1(orange), non-placed means 0(blue). Based on the above plot, fellows who turned in the most applications are less likely going to be placed and they pretty much spend more time in the program. This is very interesting as I would think that the more application turned in, the more they stand a chance of being placed. I am also not naive about problems like this. I would like to dig further to figure out other factors that could be creating a suitation like this. As for now, I think fellows with most applications might not have been submitting a good quality resume and cover letter. I wish Pathrise would create a new column where they will rate fellows resumes for every application they submitted."
   ]
  },
  {
   "cell_type": "code",
   "execution_count": 123,
   "id": "f82d1ae0",
   "metadata": {
    "scrolled": true
   },
   "outputs": [
    {
     "data": {
      "text/plain": [
       "<AxesSubplot:xlabel='number_of_applications', ylabel='number_of_interviews'>"
      ]
     },
     "execution_count": 123,
     "metadata": {},
     "output_type": "execute_result"
    },
    {
     "data": {
      "image/png": "[encoded data removed]",
      "text/plain": [
       "<Figure size 432x288 with 1 Axes>"
      ]
     },
     "metadata": {
      "needs_background": "light"
     },
     "output_type": "display_data"
    }
   ],
   "source": [
    " sns.scatterplot(data=df, y=\"number_of_interviews\", x=\"number_of_applications\", hue=\"placed\", s= 30, color=\".2\")"
   ]
  },
  {
   "cell_type": "markdown",
   "id": "c05799f4",
   "metadata": {},
   "source": [
    "As expected, fellows who were placed received more interviews than those who turned in more applications."
   ]
  },
  {
   "cell_type": "code",
   "execution_count": 124,
   "id": "7fcd229a",
   "metadata": {
    "scrolled": true
   },
   "outputs": [
    {
     "data": {
      "text/plain": [
       "<AxesSubplot:xlabel='number_of_applications', ylabel='length_of_job_search'>"
      ]
     },
     "execution_count": 124,
     "metadata": {},
     "output_type": "execute_result"
    },
    {
     "data": {
      "image/png": "[encoded data removed]",
      "text/plain": [
       "<Figure size 432x288 with 1 Axes>"
      ]
     },
     "metadata": {
      "needs_background": "light"
     },
     "output_type": "display_data"
    }
   ],
   "source": [
    " sns.scatterplot(data=df, y=\"length_of_job_search\", x=\"number_of_applications\", hue=\"placed\", s= 30, color=\".2\")"
   ]
  },
  {
   "cell_type": "markdown",
   "id": "e5fb285b",
   "metadata": {},
   "source": [
    "From the aboved, you can see that max number of applications that a placed fellow turned in before being placed is around 400 compare to 1000 by a non-placed fellow. Most placement happens within 1-2 months, followed by less than 1 month period. I wonder if their Work Authorization, experience level or level of education has anything to do it. let's find out."
   ]
  },
  {
   "cell_type": "code",
   "execution_count": 125,
   "id": "730dd21e",
   "metadata": {},
   "outputs": [
    {
     "data": {
      "text/plain": [
       "<AxesSubplot:xlabel='number_of_applications', ylabel='work_authorization_status'>"
      ]
     },
     "execution_count": 125,
     "metadata": {},
     "output_type": "execute_result"
    },
    {
     "data": {
      "image/png": "[encoded data removed]",
      "text/plain": [
       "<Figure size 432x288 with 1 Axes>"
      ]
     },
     "metadata": {
      "needs_background": "light"
     },
     "output_type": "display_data"
    }
   ],
   "source": [
    "sns.scatterplot(data=df, y=\"work_authorization_status\", x=\"number_of_applications\", hue=\"placed\", s= 30, color=\".2\")"
   ]
  },
  {
   "cell_type": "markdown",
   "id": "03fb2d12",
   "metadata": {},
   "source": [
    "It seems like fellows with green card are more likely going to be placed than any other fellows. F1 Visa/CPT fellows are also more likely going to be placed. There might be something else going on here as I would assume that citizens would be placed more easily compare to other fellows with work authorization. Also citizens seemed to be the fellows turning more applications which I have raised concerned about potential poor resume or cover letter. Next I will like to examine their level of eduction and work authorization"
   ]
  },
  {
   "cell_type": "code",
   "execution_count": 126,
   "id": "571ef14d",
   "metadata": {
    "scrolled": false
   },
   "outputs": [
    {
     "name": "stderr",
     "output_type": "stream",
     "text": [
      "<ipython-input-126-bacd57c081fd>:2: UserWarning: FixedFormatter should only be used together with FixedLocator\n",
      "  b.set_xticklabels(df[\"work_authorization_status\"],rotation=90, ha='right')\n"
     ]
    },
    {
     "data": {
      "text/plain": [
       "[Text(0, 0, 'Canada Citizen'),\n",
       " Text(1, 0, 'Citizen'),\n",
       " Text(2, 0, 'Citizen'),\n",
       " Text(3, 0, 'Citizen'),\n",
       " Text(4, 0, 'F1 Visa/OPT'),\n",
       " Text(5, 0, 'Green Card'),\n",
       " Text(6, 0, 'Green Card'),\n",
       " Text(7, 0, 'Citizen'),\n",
       " Text(8, 0, 'F1 Visa/CPT')]"
      ]
     },
     "execution_count": 126,
     "metadata": {},
     "output_type": "execute_result"
    },
    {
     "data": {
      "image/png": "[encoded data removed]",
      "text/plain": [
       "<Figure size 432x288 with 1 Axes>"
      ]
     },
     "metadata": {
      "needs_background": "light"
     },
     "output_type": "display_data"
    }
   ],
   "source": [
    "b=sns.scatterplot(data=df, x=\"work_authorization_status\", y=\"highest_level_of_education\", hue=\"placed\", s= 50, color=\".2\")\n",
    "b.set_xticklabels(df[\"work_authorization_status\"],rotation=90, ha='right')"
   ]
  },
  {
   "cell_type": "markdown",
   "id": "32bb38d2",
   "metadata": {},
   "source": [
    "Fellows with Master's Degree were less likely to be placed compare to Bachelor's degree. A good amount of citizens do not have doctorate degree or masters. Other fellows with different kinda of work authorization seems to have pretty much all sorts of degrees, hence diminishing the rating of citizens when placement is considered."
   ]
  },
  {
   "cell_type": "code",
   "execution_count": 127,
   "id": "43f32164",
   "metadata": {
    "scrolled": true
   },
   "outputs": [
    {
     "name": "stderr",
     "output_type": "stream",
     "text": [
      "<ipython-input-127-283c0e7a2bc6>:2: UserWarning: FixedFormatter should only be used together with FixedLocator\n",
      "  c.set_xticklabels(df[\"highest_level_of_education\"],rotation=90, ha='right')\n"
     ]
    },
    {
     "data": {
      "text/plain": [
       "<matplotlib.legend.Legend at 0x12dfa8550>"
      ]
     },
     "execution_count": 127,
     "metadata": {},
     "output_type": "execute_result"
    },
    {
     "data": {
      "image/png": "[encoded data removed]",
      "text/plain": [
       "<Figure size 432x288 with 1 Axes>"
      ]
     },
     "metadata": {
      "needs_background": "light"
     },
     "output_type": "display_data"
    }
   ],
   "source": [
    "c=sns.scatterplot(data=df, x=\"highest_level_of_education\", y='company_status', hue= 'work_authorization_status', s= 50, color=\".2\")\n",
    "c.set_xticklabels(df[\"highest_level_of_education\"],rotation=90, ha='right')\n",
    "plt.legend(bbox_to_anchor=(1.05, 1), loc=2, borderaxespad=0.)"
   ]
  },
  {
   "cell_type": "markdown",
   "id": "de2cd905",
   "metadata": {},
   "source": [
    "fellows that are citizens are more likely to take a break,deferred, withdraw or be classified as closed lost by Pathrise."
   ]
  },
  {
   "cell_type": "code",
   "execution_count": 128,
   "id": "8f58fe9c",
   "metadata": {},
   "outputs": [
    {
     "name": "stderr",
     "output_type": "stream",
     "text": [
      "<ipython-input-128-e662d2783d93>:2: UserWarning: FixedFormatter should only be used together with FixedLocator\n",
      "  d.set_xticklabels(df[\"work_authorization_status\"],rotation=90, ha='right')\n"
     ]
    },
    {
     "data": {
      "text/plain": [
       "[Text(0, 0, 'Canada Citizen'),\n",
       " Text(1, 0, 'Citizen'),\n",
       " Text(2, 0, 'Citizen'),\n",
       " Text(3, 0, 'Citizen'),\n",
       " Text(4, 0, 'F1 Visa/OPT'),\n",
       " Text(5, 0, 'Green Card'),\n",
       " Text(6, 0, 'Green Card'),\n",
       " Text(7, 0, 'Citizen'),\n",
       " Text(8, 0, 'F1 Visa/CPT')]"
      ]
     },
     "execution_count": 128,
     "metadata": {},
     "output_type": "execute_result"
    },
    {
     "data": {
      "image/png": "[encoded data removed]",
      "text/plain": [
       "<Figure size 432x288 with 1 Axes>"
      ]
     },
     "metadata": {
      "needs_background": "light"
     },
     "output_type": "display_data"
    }
   ],
   "source": [
    "d=sns.scatterplot(data=df, x=\"work_authorization_status\", y= 'program_duration_days', hue= 'placed', s= 50, color=\".2\")\n",
    "d.set_xticklabels(df[\"work_authorization_status\"],rotation=90, ha='right')\n",
    "#plt.legend(bbox_to_anchor=(1.05, 1), loc=2, borderaxespad=0.)"
   ]
  },
  {
   "cell_type": "markdown",
   "id": "2ed85b7f",
   "metadata": {},
   "source": [
    "some fellows spent less than 100 days. most of the placement happens within 0-200 days. "
   ]
  },
  {
   "cell_type": "code",
   "execution_count": 129,
   "id": "36a0d5f6",
   "metadata": {},
   "outputs": [
    {
     "name": "stderr",
     "output_type": "stream",
     "text": [
      "/Applications/anaconda3/envs/springboard/lib/python3.8/site-packages/statsmodels/graphics/gofplots.py:993: UserWarning: marker is redundantly defined by the 'marker' keyword argument and the fmt string \"bo\" (-> marker='o'). The keyword argument will take precedence.\n",
      "  ax.plot(x, y, fmt, **plot_style)\n"
     ]
    },
    {
     "data": {
      "image/png": "[encoded data removed]",
      "text/plain": [
       "<Figure size 432x288 with 1 Axes>"
      ]
     },
     "metadata": {
      "needs_background": "light"
     },
     "output_type": "display_data"
    }
   ],
   "source": [
    "import statsmodels.api as sm\n",
    "from scipy.stats import norm\n",
    "import pylab\n",
    "\n",
    "sm.qqplot(df['program_duration_days'])\n",
    "pylab.show()"
   ]
  },
  {
   "cell_type": "markdown",
   "id": "16199301",
   "metadata": {},
   "source": [
    "program_duration_days is not normally distributed."
   ]
  },
  {
   "cell_type": "markdown",
   "id": "77fada33",
   "metadata": {},
   "source": [
    "# Training and Test Datasets"
   ]
  },
  {
   "cell_type": "code",
   "execution_count": 142,
   "id": "83ff7a1a",
   "metadata": {},
   "outputs": [],
   "source": [
    "\n",
    "x = df.drop(columns='placed')\n",
    "y = df.placed\n",
    "# The test_size--> train with 7% of the data, and test on 30%. \n",
    "X_train, X_test, y_train, y_test = train_test_split(x,y, test_size=0.30, \n",
    "                                                    random_state=47)"
   ]
  },
  {
   "cell_type": "code",
   "execution_count": 143,
   "id": "388b4025",
   "metadata": {
    "scrolled": false
   },
   "outputs": [
    {
     "name": "stdout",
     "output_type": "stream",
     "text": [
      "(1745, 13) (1745,)\n",
      "(749, 13) (749,)\n"
     ]
    }
   ],
   "source": [
    "print(X_train.shape, y_train.shape)\n",
    "print(X_test.shape, y_test.shape)"
   ]
  },
  {
   "cell_type": "markdown",
   "id": "28a75f0b",
   "metadata": {},
   "source": [
    "checking how good the mean is as a predictor"
   ]
  },
  {
   "cell_type": "code",
   "execution_count": 144,
   "id": "fc470be6",
   "metadata": {
    "scrolled": true
   },
   "outputs": [
    {
     "data": {
      "text/plain": [
       "company_status                  object\n",
       "primary_track                   object\n",
       "cohort_tag                      object\n",
       "program_duration_days          float64\n",
       "employment_status               object\n",
       "highest_level_of_education      object\n",
       "length_of_job_search            object\n",
       "biggest_challenge_in_search     object\n",
       "professional_experience         object\n",
       "work_authorization_status       object\n",
       "number_of_interviews           float64\n",
       "number_of_applications           int64\n",
       "race                            object\n",
       "dtype: object"
      ]
     },
     "execution_count": 144,
     "metadata": {},
     "output_type": "execute_result"
    }
   ],
   "source": [
    "X_test.dtypes"
   ]
  },
  {
   "cell_type": "code",
   "execution_count": 145,
   "id": "ca834747",
   "metadata": {
    "scrolled": false
   },
   "outputs": [
    {
     "data": {
      "text/plain": [
       "company_status                  object\n",
       "primary_track                   object\n",
       "cohort_tag                      object\n",
       "program_duration_days          float64\n",
       "employment_status               object\n",
       "highest_level_of_education      object\n",
       "length_of_job_search            object\n",
       "biggest_challenge_in_search     object\n",
       "professional_experience         object\n",
       "work_authorization_status       object\n",
       "number_of_interviews           float64\n",
       "number_of_applications           int64\n",
       "race                            object\n",
       "dtype: object"
      ]
     },
     "execution_count": 145,
     "metadata": {},
     "output_type": "execute_result"
    }
   ],
   "source": [
    "X_train.dtypes"
   ]
  },
  {
   "cell_type": "code",
   "execution_count": 146,
   "id": "5ebfdd69",
   "metadata": {},
   "outputs": [
    {
     "name": "stderr",
     "output_type": "stream",
     "text": [
      "/Applications/anaconda3/envs/springboard/lib/python3.8/site-packages/pandas/core/frame.py:4308: SettingWithCopyWarning: \n",
      "A value is trying to be set on a copy of a slice from a DataFrame\n",
      "\n",
      "See the caveats in the documentation: https://pandas.pydata.org/pandas-docs/stable/user_guide/indexing.html#returning-a-view-versus-a-copy\n",
      "  return super().drop(\n"
     ]
    },
    {
     "data": {
      "text/plain": [
       "((1745, 3), (749, 3))"
      ]
     },
     "execution_count": 146,
     "metadata": {},
     "output_type": "execute_result"
    }
   ],
   "source": [
    "names_list = ['company_status', 'primary_track', 'cohort_tag', 'employment_status ', 'highest_level_of_education', 'length_of_job_search',\n",
    "             'biggest_challenge_in_search', 'professional_experience', 'work_authorization_status', 'race']\n",
    "names_train = X_train[names_list]\n",
    "names_test = X_test[names_list]\n",
    "X_train.drop(columns=names_list, inplace=True)\n",
    "X_test.drop(columns=names_list, inplace=True)\n",
    "X_train.shape, X_test.shape"
   ]
  },
  {
   "cell_type": "code",
   "execution_count": 147,
   "id": "69829837",
   "metadata": {},
   "outputs": [
    {
     "data": {
      "text/plain": [
       "0.3638968481375358"
      ]
     },
     "execution_count": 147,
     "metadata": {},
     "output_type": "execute_result"
    }
   ],
   "source": [
    "train_mean = y_train.mean()\n",
    "train_mean"
   ]
  },
  {
   "cell_type": "code",
   "execution_count": 148,
   "id": "892586e4",
   "metadata": {},
   "outputs": [
    {
     "data": {
      "text/plain": [
       "array([[0.36389685]])"
      ]
     },
     "execution_count": 148,
     "metadata": {},
     "output_type": "execute_result"
    }
   ],
   "source": [
    "dumb_reg = DummyRegressor(strategy='mean')\n",
    "dumb_reg.fit(X_train ,y_train)\n",
    "dumb_reg.constant_"
   ]
  },
  {
   "cell_type": "markdown",
   "id": "57244c4d",
   "metadata": {},
   "source": [
    "# Metrics"
   ]
  },
  {
   "cell_type": "markdown",
   "id": "615d97c9",
   "metadata": {},
   "source": [
    "# 1. R-squared, or coefficient of determination"
   ]
  },
  {
   "cell_type": "markdown",
   "id": "5b42ff9b",
   "metadata": {},
   "source": [
    "A model that perfectly predicts the observed values would have no residual error and so give $R^2=1$. Models that do worse than predicting the mean will have increased the sum of squares of residuals and so produce a negative $R^2$"
   ]
  },
  {
   "cell_type": "code",
   "execution_count": 149,
   "id": "12efd473",
   "metadata": {},
   "outputs": [],
   "source": [
    "def r_squared(y, ypred):\n",
    "    \"\"\"R-squared score.\n",
    "    \n",
    "    Calculate the R-squared, or coefficient of determination, of the input.\n",
    "    \n",
    "    Arguments:\n",
    "    y -- the observed values\n",
    "    ypred -- the predicted values\n",
    "    \"\"\"\n",
    "    ybar = np.sum(y) / len(y) #yes, we could use np.mean(y)\n",
    "    sum_sq_tot = np.sum((y - ybar)**2) #total sum of squares error\n",
    "    sum_sq_res = np.sum((y - ypred)**2) #residual sum of squares error\n",
    "    R2 = 1.0 -  sum_sq_res/sum_sq_tot\n",
    "    return R2"
   ]
  },
  {
   "cell_type": "markdown",
   "id": "cda83bad",
   "metadata": {},
   "source": [
    "Making predictions by creating an array of length the size of the training set with the single value of the mean"
   ]
  },
  {
   "cell_type": "code",
   "execution_count": 150,
   "id": "65f21057",
   "metadata": {},
   "outputs": [
    {
     "data": {
      "text/plain": [
       "array([0.36389685, 0.36389685, 0.36389685, 0.36389685, 0.36389685])"
      ]
     },
     "execution_count": 150,
     "metadata": {},
     "output_type": "execute_result"
    }
   ],
   "source": [
    "y_tr_pred_ = train_mean * np.ones(len(y_train))\n",
    "y_tr_pred_[:5]"
   ]
  },
  {
   "cell_type": "code",
   "execution_count": 151,
   "id": "19994c9f",
   "metadata": {
    "scrolled": true
   },
   "outputs": [
    {
     "data": {
      "text/plain": [
       "array([0.36389685, 0.36389685, 0.36389685, 0.36389685, 0.36389685])"
      ]
     },
     "execution_count": 151,
     "metadata": {},
     "output_type": "execute_result"
    }
   ],
   "source": [
    "y_tr_pred = dumb_reg.predict(X_train)\n",
    "y_tr_pred[:5]"
   ]
  },
  {
   "cell_type": "code",
   "execution_count": 152,
   "id": "c5f7b9cc",
   "metadata": {},
   "outputs": [
    {
     "data": {
      "text/plain": [
       "0.0"
      ]
     },
     "execution_count": 152,
     "metadata": {},
     "output_type": "execute_result"
    }
   ],
   "source": [
    "r_squared(y_train, y_tr_pred)"
   ]
  },
  {
   "cell_type": "code",
   "execution_count": 153,
   "id": "055a2054",
   "metadata": {},
   "outputs": [
    {
     "data": {
      "text/plain": [
       "-0.004815977531617666"
      ]
     },
     "execution_count": 153,
     "metadata": {},
     "output_type": "execute_result"
    }
   ],
   "source": [
    "y_te_pred = train_mean * np.ones(len(y_test))\n",
    "r_squared(y_test, y_te_pred)"
   ]
  },
  {
   "cell_type": "markdown",
   "id": "d1172acd",
   "metadata": {},
   "source": [
    "# 2. Mean Absolute Error"
   ]
  },
  {
   "cell_type": "code",
   "execution_count": 154,
   "id": "c15a760d",
   "metadata": {},
   "outputs": [],
   "source": [
    "def mae(y, ypred):\n",
    "    \"\"\"Mean absolute error.\n",
    "    \n",
    "    Calculate the mean absolute error of the arguments\n",
    "\n",
    "    Arguments:\n",
    "    y -- the observed values\n",
    "    ypred -- the predicted values\n",
    "    \"\"\"\n",
    "    abs_error = np.abs(y - ypred)\n",
    "    mae = np.mean(abs_error)\n",
    "    return mae"
   ]
  },
  {
   "cell_type": "code",
   "execution_count": 155,
   "id": "6dc04ea3",
   "metadata": {},
   "outputs": [
    {
     "data": {
      "text/plain": [
       "0.46295186410620603"
      ]
     },
     "execution_count": 155,
     "metadata": {},
     "output_type": "execute_result"
    }
   ],
   "source": [
    "mae(y_train, y_tr_pred)"
   ]
  },
  {
   "cell_type": "code",
   "execution_count": 156,
   "id": "666a17e4",
   "metadata": {
    "scrolled": true
   },
   "outputs": [
    {
     "data": {
      "text/plain": [
       "0.472197887536773"
      ]
     },
     "execution_count": 156,
     "metadata": {},
     "output_type": "execute_result"
    }
   ],
   "source": [
    "mae(y_test, y_te_pred)"
   ]
  },
  {
   "cell_type": "markdown",
   "id": "083d7439",
   "metadata": {},
   "source": [
    "This means I might expect to be off by around \\0.47 if I guessed placement based on an average of known values"
   ]
  },
  {
   "cell_type": "markdown",
   "id": "70d951ca",
   "metadata": {},
   "source": [
    "# 3. Mean Squared Error"
   ]
  },
  {
   "cell_type": "code",
   "execution_count": 157,
   "id": "248c31ff",
   "metadata": {},
   "outputs": [],
   "source": [
    "def mse(y, ypred):\n",
    "    \"\"\"Mean square error.\n",
    "    \n",
    "    Calculate the mean square error of the arguments\n",
    "\n",
    "    Arguments:\n",
    "    y -- the observed values\n",
    "    ypred -- the predicted values\n",
    "    \"\"\"\n",
    "    sq_error = (y - ypred)**2\n",
    "    mse = np.mean(sq_error)\n",
    "    return mse"
   ]
  },
  {
   "cell_type": "code",
   "execution_count": 158,
   "id": "db159371",
   "metadata": {},
   "outputs": [
    {
     "data": {
      "text/plain": [
       "0.23147593205310307"
      ]
     },
     "execution_count": 158,
     "metadata": {},
     "output_type": "execute_result"
    }
   ],
   "source": [
    "mse(y_train, y_tr_pred)"
   ]
  },
  {
   "cell_type": "code",
   "execution_count": 159,
   "id": "41edbe86",
   "metadata": {},
   "outputs": [
    {
     "data": {
      "text/plain": [
       "0.24072195548367004"
      ]
     },
     "execution_count": 159,
     "metadata": {},
     "output_type": "execute_result"
    }
   ],
   "source": [
    "mse(y_test, y_te_pred)"
   ]
  },
  {
   "cell_type": "markdown",
   "id": "b371ab20",
   "metadata": {},
   "source": [
    "converting this back to our measurement space by taking the square root to form the root mean square error"
   ]
  },
  {
   "cell_type": "code",
   "execution_count": 160,
   "id": "09c82537",
   "metadata": {
    "scrolled": true
   },
   "outputs": [
    {
     "data": {
      "text/plain": [
       "array([0.48111946, 0.49063424])"
      ]
     },
     "execution_count": 160,
     "metadata": {},
     "output_type": "execute_result"
    }
   ],
   "source": [
    "np.sqrt([mse(y_train, y_tr_pred), mse(y_test, y_te_pred)])"
   ]
  },
  {
   "cell_type": "markdown",
   "id": "03e6cd31",
   "metadata": {},
   "source": [
    "# Sklearn metrics"
   ]
  },
  {
   "cell_type": "markdown",
   "id": "900eae7d",
   "metadata": {},
   "source": [
    "1. R-squared"
   ]
  },
  {
   "cell_type": "code",
   "execution_count": 161,
   "id": "c172743f",
   "metadata": {
    "scrolled": true
   },
   "outputs": [
    {
     "data": {
      "text/plain": [
       "(0.0, -0.004815977531617666)"
      ]
     },
     "execution_count": 161,
     "metadata": {},
     "output_type": "execute_result"
    }
   ],
   "source": [
    "r2_score(y_train, y_tr_pred), r2_score(y_test, y_te_pred)"
   ]
  },
  {
   "cell_type": "markdown",
   "id": "16a41e3e",
   "metadata": {},
   "source": [
    " 2. Mean absolute error"
   ]
  },
  {
   "cell_type": "code",
   "execution_count": 162,
   "id": "f65ccfce",
   "metadata": {
    "scrolled": false
   },
   "outputs": [
    {
     "data": {
      "text/plain": [
       "(0.46295186410620603, 0.472197887536773)"
      ]
     },
     "execution_count": 162,
     "metadata": {},
     "output_type": "execute_result"
    }
   ],
   "source": [
    "mean_absolute_error(y_train, y_tr_pred), mean_absolute_error(y_test, y_te_pred)"
   ]
  },
  {
   "cell_type": "markdown",
   "id": "cfc981bd",
   "metadata": {},
   "source": [
    "# Initial Models"
   ]
  },
  {
   "cell_type": "markdown",
   "id": "fbac5e63",
   "metadata": {},
   "source": [
    "# Impute missing values with median"
   ]
  },
  {
   "cell_type": "markdown",
   "id": "775d399f",
   "metadata": {},
   "source": [
    "any missing value will be replaced with these below"
   ]
  },
  {
   "cell_type": "code",
   "execution_count": 163,
   "id": "0a6ece78",
   "metadata": {
    "scrolled": true
   },
   "outputs": [
    {
     "data": {
      "text/plain": [
       "program_duration_days     107.5\n",
       "number_of_interviews        1.0\n",
       "number_of_applications     20.0\n",
       "dtype: float64"
      ]
     },
     "execution_count": 163,
     "metadata": {},
     "output_type": "execute_result"
    }
   ],
   "source": [
    "X_defaults_median = X_train.median()\n",
    "X_defaults_median"
   ]
  },
  {
   "cell_type": "markdown",
   "id": "57c22795",
   "metadata": {},
   "source": [
    "Apply the imputation to both train and test splits"
   ]
  },
  {
   "cell_type": "code",
   "execution_count": 164,
   "id": "38cf18ce",
   "metadata": {},
   "outputs": [],
   "source": [
    "X_tr = X_train.fillna(X_defaults_median)\n",
    "X_te = X_test.fillna(X_defaults_median)"
   ]
  },
  {
   "cell_type": "markdown",
   "id": "43ff95e1",
   "metadata": {},
   "source": [
    "Scale the data"
   ]
  },
  {
   "cell_type": "code",
   "execution_count": 165,
   "id": "4603dab9",
   "metadata": {},
   "outputs": [],
   "source": [
    "scaler = StandardScaler()\n",
    "scaler.fit(X_tr)\n",
    "X_tr_scaled = scaler.transform(X_tr)\n",
    "X_te_scaled = scaler.transform(X_te)"
   ]
  },
  {
   "cell_type": "markdown",
   "id": "9ee87f64",
   "metadata": {},
   "source": [
    "# Train the model on the train split"
   ]
  },
  {
   "cell_type": "markdown",
   "id": "3959022f",
   "metadata": {},
   "source": [
    "Making predictions using the model on both train and test splits"
   ]
  },
  {
   "cell_type": "code",
   "execution_count": 166,
   "id": "0ed4556f",
   "metadata": {},
   "outputs": [],
   "source": [
    "lm = LinearRegression().fit(X_tr_scaled, y_train)"
   ]
  },
  {
   "cell_type": "code",
   "execution_count": 167,
   "id": "5910fbe6",
   "metadata": {},
   "outputs": [],
   "source": [
    "y_tr_pred = lm.predict(X_tr_scaled)\n",
    "y_te_pred = lm.predict(X_te_scaled)"
   ]
  },
  {
   "cell_type": "markdown",
   "id": "de9986df",
   "metadata": {},
   "source": [
    "Assessing model performance"
   ]
  },
  {
   "cell_type": "code",
   "execution_count": 168,
   "id": "62b54214",
   "metadata": {},
   "outputs": [
    {
     "data": {
      "text/plain": [
       "(0.055018218867670665, 0.035433179175561325)"
      ]
     },
     "execution_count": 168,
     "metadata": {},
     "output_type": "execute_result"
    }
   ],
   "source": [
    "median_r2 = r2_score(y_train, y_tr_pred), r2_score(y_test, y_te_pred)\n",
    "median_r2"
   ]
  },
  {
   "cell_type": "markdown",
   "id": "36881e2e",
   "metadata": {},
   "source": [
    "The simple linear regression model explains 5% of the variance on the train set and 3% on the test set. "
   ]
  },
  {
   "cell_type": "code",
   "execution_count": 169,
   "id": "26146ced",
   "metadata": {},
   "outputs": [
    {
     "data": {
      "text/plain": [
       "(0.43748107712161477, 0.4509441448597206)"
      ]
     },
     "execution_count": 169,
     "metadata": {},
     "output_type": "execute_result"
    }
   ],
   "source": [
    "#calculating the mean absolute error scores using `sklearn`'s `mean_absolute_error` function\n",
    "median_mae = mean_absolute_error(y_train, y_tr_pred), mean_absolute_error(y_test, y_te_pred)\n",
    "median_mae"
   ]
  },
  {
   "cell_type": "markdown",
   "id": "13c8f66e",
   "metadata": {},
   "source": [
    "Using this model, then, on average I expect to estimate a placement within \\0.43 or so of the real placement. This is much, much better than the \\\\0.05 from just guessing using the average"
   ]
  },
  {
   "cell_type": "code",
   "execution_count": 170,
   "id": "3779275d",
   "metadata": {},
   "outputs": [
    {
     "data": {
      "text/plain": [
       "(0.21874053856080738, 0.2310795374431827)"
      ]
     },
     "execution_count": 170,
     "metadata": {},
     "output_type": "execute_result"
    }
   ],
   "source": [
    "median_mse = mean_squared_error(y_train, y_tr_pred), mean_squared_error(y_test, y_te_pred)\n",
    "median_mse"
   ]
  },
  {
   "cell_type": "markdown",
   "id": "01e9a10a",
   "metadata": {},
   "source": [
    "# Impute missing values with the mean"
   ]
  },
  {
   "cell_type": "code",
   "execution_count": 171,
   "id": "c4264150",
   "metadata": {},
   "outputs": [
    {
     "data": {
      "text/plain": [
       "program_duration_days     134.650152\n",
       "number_of_interviews        2.169375\n",
       "number_of_applications     36.953582\n",
       "dtype: float64"
      ]
     },
     "execution_count": 171,
     "metadata": {},
     "output_type": "execute_result"
    }
   ],
   "source": [
    "#any missing value will be replaced with the mean\n",
    "X_defaults_mean = X_train.mean()\n",
    "X_defaults_mean"
   ]
  },
  {
   "cell_type": "code",
   "execution_count": 172,
   "id": "f1ec598e",
   "metadata": {},
   "outputs": [],
   "source": [
    "#Applying the imputation to both train and test splits\n",
    "X_tr = X_train.fillna(X_defaults_mean)\n",
    "X_te = X_test.fillna(X_defaults_mean)"
   ]
  },
  {
   "cell_type": "code",
   "execution_count": 173,
   "id": "a3685d9a",
   "metadata": {},
   "outputs": [],
   "source": [
    "#Scale the data\n",
    "scaler = StandardScaler()\n",
    "scaler.fit(X_tr)\n",
    "X_tr_scaled = scaler.transform(X_tr)\n",
    "X_te_scaled = scaler.transform(X_te)"
   ]
  },
  {
   "cell_type": "code",
   "execution_count": 174,
   "id": "8db663a2",
   "metadata": {},
   "outputs": [],
   "source": [
    "#Train the model on the train split\n",
    "\n",
    "lm = LinearRegression().fit(X_tr_scaled, y_train)"
   ]
  },
  {
   "cell_type": "code",
   "execution_count": 175,
   "id": "156f3973",
   "metadata": {},
   "outputs": [],
   "source": [
    "#Making predictions using the model on both train and test splits\n",
    "\n",
    "y_tr_pred = lm.predict(X_tr_scaled)\n",
    "y_te_pred = lm.predict(X_te_scaled)"
   ]
  },
  {
   "cell_type": "code",
   "execution_count": 176,
   "id": "446c0820",
   "metadata": {},
   "outputs": [
    {
     "data": {
      "text/plain": [
       "(0.036002577242284395, 0.019180981119693463)"
      ]
     },
     "execution_count": 176,
     "metadata": {},
     "output_type": "execute_result"
    }
   ],
   "source": [
    "#Assess model performance\n",
    "\n",
    "r2_score(y_train, y_tr_pred), r2_score(y_test, y_te_pred)"
   ]
  },
  {
   "cell_type": "code",
   "execution_count": 177,
   "id": "301d0c6e",
   "metadata": {},
   "outputs": [
    {
     "data": {
      "text/plain": [
       "(0.44628440385926293, 0.4589662938212105)"
      ]
     },
     "execution_count": 177,
     "metadata": {},
     "output_type": "execute_result"
    }
   ],
   "source": [
    "mean_absolute_error(y_train, y_tr_pred), mean_absolute_error(y_test, y_te_pred)"
   ]
  },
  {
   "cell_type": "code",
   "execution_count": 178,
   "id": "3fcd5161",
   "metadata": {
    "scrolled": true
   },
   "outputs": [
    {
     "data": {
      "text/plain": [
       "(0.22314220192963147, 0.2349730472841857)"
      ]
     },
     "execution_count": 178,
     "metadata": {},
     "output_type": "execute_result"
    }
   ],
   "source": [
    "mean_squared_error(y_train, y_tr_pred), mean_squared_error(y_test, y_te_pred)"
   ]
  },
  {
   "cell_type": "markdown",
   "id": "d32b0d5f",
   "metadata": {},
   "source": [
    "The results aren't different from the imputation with median"
   ]
  },
  {
   "cell_type": "markdown",
   "id": "6e654b25",
   "metadata": {},
   "source": [
    "# Pipelines"
   ]
  },
  {
   "cell_type": "markdown",
   "id": "dfc21d99",
   "metadata": {},
   "source": [
    "1. Define the pipeline"
   ]
  },
  {
   "cell_type": "code",
   "execution_count": 179,
   "id": "0a56dd87",
   "metadata": {},
   "outputs": [],
   "source": [
    "pipe = make_pipeline(\n",
    "    SimpleImputer(strategy='median'), \n",
    "    StandardScaler(), \n",
    "    LinearRegression()\n",
    ")"
   ]
  },
  {
   "cell_type": "code",
   "execution_count": 180,
   "id": "50f784df",
   "metadata": {},
   "outputs": [
    {
     "data": {
      "text/plain": [
       "(True, True)"
      ]
     },
     "execution_count": 180,
     "metadata": {},
     "output_type": "execute_result"
    }
   ],
   "source": [
    "hasattr(pipe, 'fit'), hasattr(pipe, 'predict')"
   ]
  },
  {
   "cell_type": "markdown",
   "id": "fccfa738",
   "metadata": {},
   "source": [
    "2. Fit the pipeline"
   ]
  },
  {
   "cell_type": "code",
   "execution_count": 181,
   "id": "2820ea2a",
   "metadata": {
    "scrolled": true
   },
   "outputs": [
    {
     "data": {
      "text/plain": [
       "Pipeline(steps=[('simpleimputer', SimpleImputer(strategy='median')),\n",
       "                ('standardscaler', StandardScaler()),\n",
       "                ('linearregression', LinearRegression())])"
      ]
     },
     "execution_count": 181,
     "metadata": {},
     "output_type": "execute_result"
    }
   ],
   "source": [
    "pipe.fit(X_train, y_train)"
   ]
  },
  {
   "cell_type": "markdown",
   "id": "6fa92f74",
   "metadata": {},
   "source": [
    "3. Make predictions on the train and test sets"
   ]
  },
  {
   "cell_type": "code",
   "execution_count": 182,
   "id": "81062fe3",
   "metadata": {},
   "outputs": [],
   "source": [
    "y_tr_pred = pipe.predict(X_train)\n",
    "y_te_pred = pipe.predict(X_test)"
   ]
  },
  {
   "cell_type": "markdown",
   "id": "b1917406",
   "metadata": {},
   "source": [
    "4. Assess performance"
   ]
  },
  {
   "cell_type": "code",
   "execution_count": 183,
   "id": "ab0d9bbf",
   "metadata": {},
   "outputs": [
    {
     "data": {
      "text/plain": [
       "(0.055018218867670665, 0.035433179175561325)"
      ]
     },
     "execution_count": 183,
     "metadata": {},
     "output_type": "execute_result"
    }
   ],
   "source": [
    "r2_score(y_train, y_tr_pred), r2_score(y_test, y_te_pred)"
   ]
  },
  {
   "cell_type": "markdown",
   "id": "d0b88eae",
   "metadata": {},
   "source": [
    "comparing with my non-pipeline result"
   ]
  },
  {
   "cell_type": "code",
   "execution_count": 184,
   "id": "0aa50b2b",
   "metadata": {},
   "outputs": [
    {
     "data": {
      "text/plain": [
       "(0.055018218867670665, 0.035433179175561325)"
      ]
     },
     "execution_count": 184,
     "metadata": {},
     "output_type": "execute_result"
    }
   ],
   "source": [
    "median_r2"
   ]
  },
  {
   "cell_type": "code",
   "execution_count": 185,
   "id": "c6c4aaf7",
   "metadata": {},
   "outputs": [
    {
     "data": {
      "text/plain": [
       "(0.43748107712161477, 0.4509441448597206)"
      ]
     },
     "execution_count": 185,
     "metadata": {},
     "output_type": "execute_result"
    }
   ],
   "source": [
    "mean_absolute_error(y_train, y_tr_pred), mean_absolute_error(y_test, y_te_pred)"
   ]
  },
  {
   "cell_type": "code",
   "execution_count": 186,
   "id": "bb510a76",
   "metadata": {},
   "outputs": [
    {
     "data": {
      "text/plain": [
       "(0.43748107712161477, 0.4509441448597206)"
      ]
     },
     "execution_count": 186,
     "metadata": {},
     "output_type": "execute_result"
    }
   ],
   "source": [
    "median_mae"
   ]
  },
  {
   "cell_type": "code",
   "execution_count": 187,
   "id": "7caf0330",
   "metadata": {},
   "outputs": [
    {
     "data": {
      "text/plain": [
       "(0.21874053856080738, 0.2310795374431827)"
      ]
     },
     "execution_count": 187,
     "metadata": {},
     "output_type": "execute_result"
    }
   ],
   "source": [
    "mean_squared_error(y_train, y_tr_pred), mean_squared_error(y_test, y_te_pred)"
   ]
  },
  {
   "cell_type": "code",
   "execution_count": 188,
   "id": "ebf34338",
   "metadata": {},
   "outputs": [
    {
     "data": {
      "text/plain": [
       "(0.21874053856080738, 0.2310795374431827)"
      ]
     },
     "execution_count": 188,
     "metadata": {},
     "output_type": "execute_result"
    }
   ],
   "source": [
    "median_mse"
   ]
  },
  {
   "cell_type": "markdown",
   "id": "fd96e362",
   "metadata": {},
   "source": [
    "# Random Forest Model"
   ]
  },
  {
   "cell_type": "markdown",
   "id": "e2b50d1b",
   "metadata": {},
   "source": [
    "1 Define the pipeline"
   ]
  },
  {
   "cell_type": "code",
   "execution_count": 189,
   "id": "49822e5d",
   "metadata": {},
   "outputs": [],
   "source": [
    "RF_pipe = make_pipeline(\n",
    "    SimpleImputer(strategy='median'),\n",
    "    StandardScaler(),\n",
    "    RandomForestRegressor(random_state=47)\n",
    ")"
   ]
  },
  {
   "cell_type": "code",
   "execution_count": 190,
   "id": "13f4d83c",
   "metadata": {},
   "outputs": [],
   "source": [
    "rf_default_cv_results = cross_validate(RF_pipe, X_train, y_train, cv=5)"
   ]
  },
  {
   "cell_type": "code",
   "execution_count": 191,
   "id": "f5afff85",
   "metadata": {
    "scrolled": true
   },
   "outputs": [
    {
     "data": {
      "text/plain": [
       "array([0.41347948, 0.55912211, 0.37155833, 0.45417896, 0.37303747])"
      ]
     },
     "execution_count": 191,
     "metadata": {},
     "output_type": "execute_result"
    }
   ],
   "source": [
    "rf_cv_scores = rf_default_cv_results['test_score']\n",
    "rf_cv_scores"
   ]
  },
  {
   "cell_type": "code",
   "execution_count": 192,
   "id": "df9ea193",
   "metadata": {},
   "outputs": [
    {
     "data": {
      "text/plain": [
       "(0.43427526899986635, 0.0694245456651578)"
      ]
     },
     "execution_count": 192,
     "metadata": {},
     "output_type": "execute_result"
    }
   ],
   "source": [
    "np.mean(rf_cv_scores), np.std(rf_cv_scores)"
   ]
  },
  {
   "cell_type": "markdown",
   "id": "2e6d77aa",
   "metadata": {},
   "source": [
    "# Hyperparameter search using GridSearchCV"
   ]
  },
  {
   "cell_type": "code",
   "execution_count": 193,
   "id": "74173c5e",
   "metadata": {},
   "outputs": [
    {
     "data": {
      "text/plain": [
       "{'randomforestregressor__n_estimators': [10,\n",
       "  12,\n",
       "  16,\n",
       "  20,\n",
       "  26,\n",
       "  33,\n",
       "  42,\n",
       "  54,\n",
       "  69,\n",
       "  88,\n",
       "  112,\n",
       "  143,\n",
       "  183,\n",
       "  233,\n",
       "  297,\n",
       "  379,\n",
       "  483,\n",
       "  615,\n",
       "  784,\n",
       "  1000],\n",
       " 'standardscaler': [StandardScaler(), None],\n",
       " 'simpleimputer__strategy': ['mean', 'median']}"
      ]
     },
     "execution_count": 193,
     "metadata": {},
     "output_type": "execute_result"
    }
   ],
   "source": [
    "n_est = [int(n) for n in np.logspace(start=1, stop=3, num=20)]\n",
    "grid_params = {\n",
    "        'randomforestregressor__n_estimators': n_est,\n",
    "        'standardscaler': [StandardScaler(), None],\n",
    "        'simpleimputer__strategy': ['mean', 'median']\n",
    "}\n",
    "grid_params"
   ]
  },
  {
   "cell_type": "code",
   "execution_count": 194,
   "id": "ec9e43fd",
   "metadata": {},
   "outputs": [],
   "source": [
    "rf_grid_cv = GridSearchCV(RF_pipe, param_grid=grid_params, cv=5, n_jobs=-1)"
   ]
  },
  {
   "cell_type": "code",
   "execution_count": 195,
   "id": "c9edb8ae",
   "metadata": {},
   "outputs": [
    {
     "data": {
      "text/plain": [
       "GridSearchCV(cv=5,\n",
       "             estimator=Pipeline(steps=[('simpleimputer',\n",
       "                                        SimpleImputer(strategy='median')),\n",
       "                                       ('standardscaler', StandardScaler()),\n",
       "                                       ('randomforestregressor',\n",
       "                                        RandomForestRegressor(random_state=47))]),\n",
       "             n_jobs=-1,\n",
       "             param_grid={'randomforestregressor__n_estimators': [10, 12, 16, 20,\n",
       "                                                                 26, 33, 42, 54,\n",
       "                                                                 69, 88, 112,\n",
       "                                                                 143, 183, 233,\n",
       "                                                                 297, 379, 483,\n",
       "                                                                 615, 784,\n",
       "                                                                 1000],\n",
       "                         'simpleimputer__strategy': ['mean', 'median'],\n",
       "                         'standardscaler': [StandardScaler(), None]})"
      ]
     },
     "execution_count": 195,
     "metadata": {},
     "output_type": "execute_result"
    }
   ],
   "source": [
    "rf_grid_cv.fit(X_train, y_train)"
   ]
  },
  {
   "cell_type": "code",
   "execution_count": 196,
   "id": "e831e692",
   "metadata": {},
   "outputs": [
    {
     "data": {
      "text/plain": [
       "{'randomforestregressor__n_estimators': 1000,\n",
       " 'simpleimputer__strategy': 'mean',\n",
       " 'standardscaler': None}"
      ]
     },
     "execution_count": 196,
     "metadata": {},
     "output_type": "execute_result"
    }
   ],
   "source": [
    "rf_grid_cv.best_params_"
   ]
  },
  {
   "cell_type": "code",
   "execution_count": 197,
   "id": "e9a097f5",
   "metadata": {},
   "outputs": [
    {
     "data": {
      "text/plain": [
       "array([0.43684971, 0.56012625, 0.39970302, 0.47467846, 0.38059605])"
      ]
     },
     "execution_count": 197,
     "metadata": {},
     "output_type": "execute_result"
    }
   ],
   "source": [
    "rf_best_cv_results = cross_validate(rf_grid_cv.best_estimator_, X_train, y_train, cv=5)\n",
    "rf_best_scores = rf_best_cv_results['test_score']\n",
    "rf_best_scores"
   ]
  },
  {
   "cell_type": "code",
   "execution_count": 198,
   "id": "021482f0",
   "metadata": {},
   "outputs": [
    {
     "data": {
      "text/plain": [
       "(0.45039069902180157, 0.06364852986513654)"
      ]
     },
     "execution_count": 198,
     "metadata": {},
     "output_type": "execute_result"
    }
   ],
   "source": [
    "np.mean(rf_best_scores), np.std(rf_best_scores)"
   ]
  },
  {
   "cell_type": "code",
   "execution_count": 199,
   "id": "627e1495",
   "metadata": {
    "scrolled": true
   },
   "outputs": [
    {
     "data": {
      "image/png": "[encoded data removed]",
      "text/plain": [
       "<Figure size 720x360 with 1 Axes>"
      ]
     },
     "metadata": {
      "needs_background": "light"
     },
     "output_type": "display_data"
    }
   ],
   "source": [
    "plt.subplots(figsize=(10, 5))\n",
    "imps = rf_grid_cv.best_estimator_.named_steps.randomforestregressor.feature_importances_\n",
    "rf_feat_imps = pd.Series(imps, index=X_train.columns).sort_values(ascending=False)\n",
    "rf_feat_imps.plot(kind='bar')\n",
    "plt.xlabel('features')\n",
    "plt.ylabel('importance')\n",
    "plt.title('Best random forest regressor feature importances');"
   ]
  },
  {
   "cell_type": "markdown",
   "id": "9e9cc14e",
   "metadata": {},
   "source": [
    "Encouragingly, the dominant feature\"program_duration_days\" is common with my model"
   ]
  },
  {
   "cell_type": "markdown",
   "id": "07452ab9",
   "metadata": {},
   "source": [
    "# Random forest regression model performance"
   ]
  },
  {
   "cell_type": "code",
   "execution_count": 200,
   "id": "8bdbaf3a",
   "metadata": {},
   "outputs": [],
   "source": [
    "rf_neg_mae = cross_validate(rf_grid_cv.best_estimator_, X_train, y_train, \n",
    "                            scoring='neg_mean_absolute_error', cv=5, n_jobs=-1)"
   ]
  },
  {
   "cell_type": "code",
   "execution_count": 201,
   "id": "18e7fdf7",
   "metadata": {},
   "outputs": [
    {
     "data": {
      "text/plain": [
       "(0.22319804475371813, 0.014863297335899955)"
      ]
     },
     "execution_count": 201,
     "metadata": {},
     "output_type": "execute_result"
    }
   ],
   "source": [
    "rf_mae_mean = np.mean(-1 * rf_neg_mae['test_score'])\n",
    "rf_mae_std = np.std(-1 * rf_neg_mae['test_score'])\n",
    "rf_mae_mean, rf_mae_std"
   ]
  },
  {
   "cell_type": "code",
   "execution_count": 202,
   "id": "61ee41ea",
   "metadata": {},
   "outputs": [
    {
     "data": {
      "text/plain": [
       "0.2422565611291246"
      ]
     },
     "execution_count": 202,
     "metadata": {},
     "output_type": "execute_result"
    }
   ],
   "source": [
    "mean_absolute_error(y_test, rf_grid_cv.best_estimator_.predict(X_test))"
   ]
  },
  {
   "cell_type": "markdown",
   "id": "fd25ffd3",
   "metadata": {},
   "source": [
    "# Data quantity assessment"
   ]
  },
  {
   "cell_type": "code",
   "execution_count": null,
   "id": "268140a3",
   "metadata": {},
   "outputs": [],
   "source": [
    "# Conclusion\n",
    "\n",
    "checking to see if Pathrise should collect more data or not"
   ]
  },
  {
   "cell_type": "code",
   "execution_count": 203,
   "id": "34e5587e",
   "metadata": {},
   "outputs": [],
   "source": [
    "fractions = [.2, .25, .3, .35, .4, .45, .5, .6, .75, .8, 1.0]\n",
    "train_size, train_scores, test_scores = learning_curve(pipe, X_train, y_train, train_sizes=fractions)\n",
    "train_scores_mean = np.mean(train_scores, axis=1)\n",
    "train_scores_std = np.std(train_scores, axis=1)\n",
    "test_scores_mean = np.mean(test_scores, axis=1)\n",
    "test_scores_std = np.std(test_scores, axis=1)"
   ]
  },
  {
   "cell_type": "code",
   "execution_count": 204,
   "id": "9a51bc63",
   "metadata": {
    "scrolled": true
   },
   "outputs": [
    {
     "data": {
      "image/png": "[encoded data removed]",
      "text/plain": [
       "<Figure size 720x360 with 1 Axes>"
      ]
     },
     "metadata": {
      "needs_background": "light"
     },
     "output_type": "display_data"
    }
   ],
   "source": [
    "plt.subplots(figsize=(10, 5))\n",
    "plt.errorbar(train_size, test_scores_mean, yerr=test_scores_std)\n",
    "plt.xlabel('Training set size')\n",
    "plt.ylabel('CV scores')\n",
    "plt.title('Cross-validation score as training set size increases');"
   ]
  },
  {
   "cell_type": "markdown",
   "id": "8d9b7b3c",
   "metadata": {},
   "source": [
    "There are rapid improvements in model scores around 405 before other major rise and falls at 700 and possibly 1020. It seems to start levelling up after 1700. Hence Collecting more data may not cause significant change. "
   ]
  },
  {
   "cell_type": "markdown",
   "id": "1caf8a1c",
   "metadata": {},
   "source": [
    "# Save best model object from pipeline"
   ]
  },
  {
   "cell_type": "code",
   "execution_count": 242,
   "id": "ede14cfb",
   "metadata": {},
   "outputs": [],
   "source": [
    "import datetime\n",
    "best_model = rf_grid_cv.best_estimator_\n",
    "best_model.version = 1.0\n",
    "best_model.pandas_version = pd.__version__\n",
    "best_model.numpy_version = np.__version__\n",
    "best_model.sklearn_version = sklearn_version\n",
    "best_model.X_columns = [col for col in X_train.columns]\n",
    "best_model.build_datetime = datetime.datetime.now()"
   ]
  },
  {
   "cell_type": "code",
   "execution_count": 247,
   "id": "ba1141a9",
   "metadata": {},
   "outputs": [],
   "source": [
    "# save the model\n",
    "\n",
    "modelpath = '../model'\n",
    "filename = 'Data_Pathrise.pkl'\n",
    "pickle.dump(best_model, open(filename, 'wb'))"
   ]
  }
 ],
 "metadata": {
  "kernelspec": {
   "display_name": "Python 3",
   "language": "python",
   "name": "python3"
  },
  "language_info": {
   "codemirror_mode": {
    "name": "ipython",
    "version": 3
   },
   "file_extension": ".py",
   "mimetype": "text/x-python",
   "name": "python",
   "nbconvert_exporter": "python",
   "pygments_lexer": "ipython3",
   "version": "3.8.2"
  }
 },
 "nbformat": 4,
 "nbformat_minor": 5
}
