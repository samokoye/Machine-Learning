{
 "cells": [
  {
   "cell_type": "markdown",
   "id": "605d5f86",
   "metadata": {},
   "source": [
    "# Motivation for telling this Story"
   ]
  },
  {
   "cell_type": "markdown",
   "id": "3c16f1b6",
   "metadata": {},
   "source": [
    "I am currently transitioning into a new career officially and no doubt, I am caught in the line of fire being a job seeker. I am sure everyone seeking a job might have asked questions like \"how many applications do I need to submit before landing a job?\" \"How many interviews do I need to attend before receiving a job offer?\" and \"how long would my job serch take?\" These three questions are common among job seekers. So on this data storytelling exercise, I will tell a story of job seekers that partnered with Pathrise company. The job seekers in this story will be called \"fellows\". The word \"placed\" means the fellow landed a job. \"placed\" will be denoted by 1. \"Non-placed\" means the fellow didn't land a job, and will be denoted with 0. Each fellow in this story were given equal amount of time(one year) to land a job."
   ]
  },
  {
   "cell_type": "markdown",
   "id": "7bc8993d",
   "metadata": {},
   "source": [
    "# Overview of Pathrise"
   ]
  },
  {
   "cell_type": "markdown",
   "id": "45da43ee",
   "metadata": {},
   "source": [
    "\n",
    "Pathrise is an online program that provides 1-on-1 mentorship, training, and advice to help job seekers get the best possible jobs in tech. Every two weeks, Pathrise welcomes a new cohort of fellows. If a candidate is interested in joining our program and successfully passes all stages of our admission process, they receive an offer to join Pathrise and become a fellow. The first 2 weeks in the program are called a free trial period and a fellow can withdraw within this free trial period without any penalty. After 2 weeks, a fellow needs to sign an ISA (Income Share Agreement) with us if they want to stay in the program. The entire program lasts up to a year, including 8 weeks of the core curriculum. If a fellow is unable to find a job within a year after joining Pathrise, his/her contract is terminated. However, there might be some exceptions. For instance, if someone was on a break, we may extend their contract for the period of the break.\n",
    "\n",
    "On average, for fellows who stay with us after their free trial period, it takes about 4 months to receive a final job offer. However, there is a lot of variation in fellows’ outcomes. Being able to predict how fast every single fellow is going to find a job is crucial for our business."
   ]
  },
  {
   "cell_type": "markdown",
   "id": "c6c1b2fa",
   "metadata": {},
   "source": [
    "Importing neccesary libraries"
   ]
  },
  {
   "cell_type": "code",
   "execution_count": 273,
   "id": "643579e0",
   "metadata": {},
   "outputs": [],
   "source": [
    "import pandas as pd\n",
    "import numpy as np\n",
    "import matplotlib.pyplot as plt\n",
    "import matplotlib.animation as animation\n",
    "import seaborn as sns\n",
    "import os"
   ]
  },
  {
   "cell_type": "markdown",
   "id": "e678f92f",
   "metadata": {},
   "source": [
    "Loading the dataset by Pathrise"
   ]
  },
  {
   "cell_type": "code",
   "execution_count": 274,
   "id": "bcc63dce",
   "metadata": {},
   "outputs": [],
   "source": [
    "df= pd.read_csv(\"Data_Pathrise.csv\")"
   ]
  },
  {
   "cell_type": "markdown",
   "id": "de78358e",
   "metadata": {},
   "source": [
    "What is in the data provided?"
   ]
  },
  {
   "cell_type": "code",
   "execution_count": 275,
   "id": "ff2c1bb4",
   "metadata": {},
   "outputs": [
    {
     "data": {
      "text/html": [
       "<div>\n",
       "<style scoped>\n",
       "    .dataframe tbody tr th:only-of-type {\n",
       "        vertical-align: middle;\n",
       "    }\n",
       "\n",
       "    .dataframe tbody tr th {\n",
       "        vertical-align: top;\n",
       "    }\n",
       "\n",
       "    .dataframe thead th {\n",
       "        text-align: right;\n",
       "    }\n",
       "</style>\n",
       "<table border=\"1\" class=\"dataframe\">\n",
       "  <thead>\n",
       "    <tr style=\"text-align: right;\">\n",
       "      <th></th>\n",
       "      <th>id</th>\n",
       "      <th>company_status</th>\n",
       "      <th>primary_track</th>\n",
       "      <th>cohort_tag</th>\n",
       "      <th>program_duration_days</th>\n",
       "      <th>placed</th>\n",
       "      <th>employment_status</th>\n",
       "      <th>highest_level_of_education</th>\n",
       "      <th>length_of_job_search</th>\n",
       "      <th>biggest_challenge_in_search</th>\n",
       "      <th>professional_experience</th>\n",
       "      <th>work_authorization_status</th>\n",
       "      <th>number_of_interviews</th>\n",
       "      <th>number_of_applications</th>\n",
       "      <th>gender</th>\n",
       "      <th>race</th>\n",
       "    </tr>\n",
       "  </thead>\n",
       "  <tbody>\n",
       "    <tr>\n",
       "      <th>0</th>\n",
       "      <td>1</td>\n",
       "      <td>Active</td>\n",
       "      <td>SWE</td>\n",
       "      <td>OCT19A</td>\n",
       "      <td>NaN</td>\n",
       "      <td>0</td>\n",
       "      <td>Unemployed</td>\n",
       "      <td>Bachelor's Degree</td>\n",
       "      <td>3-5 months</td>\n",
       "      <td>Hearing back on my applications</td>\n",
       "      <td>3-4 years</td>\n",
       "      <td>Canada Citizen</td>\n",
       "      <td>2.0</td>\n",
       "      <td>900</td>\n",
       "      <td>Male</td>\n",
       "      <td>Non-Hispanic White or Euro-American</td>\n",
       "    </tr>\n",
       "    <tr>\n",
       "      <th>1</th>\n",
       "      <td>2</td>\n",
       "      <td>Active</td>\n",
       "      <td>PSO</td>\n",
       "      <td>JAN20A</td>\n",
       "      <td>NaN</td>\n",
       "      <td>0</td>\n",
       "      <td>Unemployed</td>\n",
       "      <td>Some College, No Degree</td>\n",
       "      <td>3-5 months</td>\n",
       "      <td>Getting past final round interviews</td>\n",
       "      <td>1-2 years</td>\n",
       "      <td>Citizen</td>\n",
       "      <td>6.0</td>\n",
       "      <td>0</td>\n",
       "      <td>Male</td>\n",
       "      <td>Non-Hispanic White or Euro-American</td>\n",
       "    </tr>\n",
       "    <tr>\n",
       "      <th>2</th>\n",
       "      <td>3</td>\n",
       "      <td>Closed Lost</td>\n",
       "      <td>Design</td>\n",
       "      <td>AUG19B</td>\n",
       "      <td>0.0</td>\n",
       "      <td>0</td>\n",
       "      <td>Employed Part-Time</td>\n",
       "      <td>Master's Degree</td>\n",
       "      <td>Less than one month</td>\n",
       "      <td>Figuring out which jobs to apply for</td>\n",
       "      <td>Less than one year</td>\n",
       "      <td>Citizen</td>\n",
       "      <td>0.0</td>\n",
       "      <td>0</td>\n",
       "      <td>Male</td>\n",
       "      <td>East Asian or Asian American</td>\n",
       "    </tr>\n",
       "    <tr>\n",
       "      <th>3</th>\n",
       "      <td>4</td>\n",
       "      <td>Closed Lost</td>\n",
       "      <td>PSO</td>\n",
       "      <td>AUG19B</td>\n",
       "      <td>0.0</td>\n",
       "      <td>0</td>\n",
       "      <td>Contractor</td>\n",
       "      <td>Bachelor's Degree</td>\n",
       "      <td>Less than one month</td>\n",
       "      <td>Getting past final round interviews</td>\n",
       "      <td>Less than one year</td>\n",
       "      <td>Citizen</td>\n",
       "      <td>5.0</td>\n",
       "      <td>25</td>\n",
       "      <td>Male</td>\n",
       "      <td>Decline to Self Identify</td>\n",
       "    </tr>\n",
       "    <tr>\n",
       "      <th>4</th>\n",
       "      <td>5</td>\n",
       "      <td>Placed</td>\n",
       "      <td>SWE</td>\n",
       "      <td>AUG19A</td>\n",
       "      <td>89.0</td>\n",
       "      <td>1</td>\n",
       "      <td>Unemployed</td>\n",
       "      <td>Bachelor's Degree</td>\n",
       "      <td>1-2 months</td>\n",
       "      <td>Hearing back on my applications</td>\n",
       "      <td>1-2 years</td>\n",
       "      <td>F1 Visa/OPT</td>\n",
       "      <td>10.0</td>\n",
       "      <td>100</td>\n",
       "      <td>Male</td>\n",
       "      <td>East Asian or Asian American</td>\n",
       "    </tr>\n",
       "  </tbody>\n",
       "</table>\n",
       "</div>"
      ],
      "text/plain": [
       "   id company_status primary_track cohort_tag  program_duration_days  placed  \\\n",
       "0   1         Active           SWE     OCT19A                    NaN       0   \n",
       "1   2         Active           PSO     JAN20A                    NaN       0   \n",
       "2   3    Closed Lost        Design     AUG19B                    0.0       0   \n",
       "3   4    Closed Lost           PSO     AUG19B                    0.0       0   \n",
       "4   5         Placed           SWE     AUG19A                   89.0       1   \n",
       "\n",
       "   employment_status  highest_level_of_education length_of_job_search  \\\n",
       "0          Unemployed          Bachelor's Degree           3-5 months   \n",
       "1          Unemployed    Some College, No Degree           3-5 months   \n",
       "2  Employed Part-Time            Master's Degree  Less than one month   \n",
       "3          Contractor          Bachelor's Degree  Less than one month   \n",
       "4          Unemployed          Bachelor's Degree           1-2 months   \n",
       "\n",
       "            biggest_challenge_in_search professional_experience  \\\n",
       "0       Hearing back on my applications               3-4 years   \n",
       "1   Getting past final round interviews               1-2 years   \n",
       "2  Figuring out which jobs to apply for      Less than one year   \n",
       "3   Getting past final round interviews      Less than one year   \n",
       "4       Hearing back on my applications               1-2 years   \n",
       "\n",
       "  work_authorization_status  number_of_interviews  number_of_applications  \\\n",
       "0            Canada Citizen                   2.0                     900   \n",
       "1                   Citizen                   6.0                       0   \n",
       "2                   Citizen                   0.0                       0   \n",
       "3                   Citizen                   5.0                      25   \n",
       "4               F1 Visa/OPT                  10.0                     100   \n",
       "\n",
       "  gender                                 race  \n",
       "0   Male  Non-Hispanic White or Euro-American  \n",
       "1   Male  Non-Hispanic White or Euro-American  \n",
       "2   Male         East Asian or Asian American  \n",
       "3   Male             Decline to Self Identify  \n",
       "4   Male         East Asian or Asian American  "
      ]
     },
     "execution_count": 275,
     "metadata": {},
     "output_type": "execute_result"
    }
   ],
   "source": [
    "df.head(5) # This will help us see the first 5 rows of the dataset"
   ]
  },
  {
   "cell_type": "markdown",
   "id": "45835160",
   "metadata": {},
   "source": [
    "The id column seems to be just an idex. There at least two NAN values in program_duration_days. Lets see how many of the data is missing. Check all columns to be safe"
   ]
  },
  {
   "cell_type": "code",
   "execution_count": 276,
   "id": "6e18bd96",
   "metadata": {},
   "outputs": [
    {
     "data": {
      "text/html": [
       "<div>\n",
       "<style scoped>\n",
       "    .dataframe tbody tr th:only-of-type {\n",
       "        vertical-align: middle;\n",
       "    }\n",
       "\n",
       "    .dataframe tbody tr th {\n",
       "        vertical-align: top;\n",
       "    }\n",
       "\n",
       "    .dataframe thead th {\n",
       "        text-align: right;\n",
       "    }\n",
       "</style>\n",
       "<table border=\"1\" class=\"dataframe\">\n",
       "  <thead>\n",
       "    <tr style=\"text-align: right;\">\n",
       "      <th></th>\n",
       "      <th>count</th>\n",
       "      <th>%</th>\n",
       "    </tr>\n",
       "  </thead>\n",
       "  <tbody>\n",
       "    <tr>\n",
       "      <th>program_duration_days</th>\n",
       "      <td>616</td>\n",
       "      <td>24.213836</td>\n",
       "    </tr>\n",
       "    <tr>\n",
       "      <th>gender</th>\n",
       "      <td>492</td>\n",
       "      <td>19.339623</td>\n",
       "    </tr>\n",
       "    <tr>\n",
       "      <th>work_authorization_status</th>\n",
       "      <td>284</td>\n",
       "      <td>11.163522</td>\n",
       "    </tr>\n",
       "    <tr>\n",
       "      <th>employment_status</th>\n",
       "      <td>229</td>\n",
       "      <td>9.001572</td>\n",
       "    </tr>\n",
       "    <tr>\n",
       "      <th>professional_experience</th>\n",
       "      <td>222</td>\n",
       "      <td>8.726415</td>\n",
       "    </tr>\n",
       "    <tr>\n",
       "      <th>number_of_interviews</th>\n",
       "      <td>218</td>\n",
       "      <td>8.569182</td>\n",
       "    </tr>\n",
       "    <tr>\n",
       "      <th>length_of_job_search</th>\n",
       "      <td>74</td>\n",
       "      <td>2.908805</td>\n",
       "    </tr>\n",
       "    <tr>\n",
       "      <th>highest_level_of_education</th>\n",
       "      <td>58</td>\n",
       "      <td>2.279874</td>\n",
       "    </tr>\n",
       "    <tr>\n",
       "      <th>biggest_challenge_in_search</th>\n",
       "      <td>24</td>\n",
       "      <td>0.943396</td>\n",
       "    </tr>\n",
       "    <tr>\n",
       "      <th>race</th>\n",
       "      <td>18</td>\n",
       "      <td>0.707547</td>\n",
       "    </tr>\n",
       "    <tr>\n",
       "      <th>cohort_tag</th>\n",
       "      <td>8</td>\n",
       "      <td>0.314465</td>\n",
       "    </tr>\n",
       "    <tr>\n",
       "      <th>id</th>\n",
       "      <td>0</td>\n",
       "      <td>0.000000</td>\n",
       "    </tr>\n",
       "    <tr>\n",
       "      <th>company_status</th>\n",
       "      <td>0</td>\n",
       "      <td>0.000000</td>\n",
       "    </tr>\n",
       "    <tr>\n",
       "      <th>primary_track</th>\n",
       "      <td>0</td>\n",
       "      <td>0.000000</td>\n",
       "    </tr>\n",
       "    <tr>\n",
       "      <th>placed</th>\n",
       "      <td>0</td>\n",
       "      <td>0.000000</td>\n",
       "    </tr>\n",
       "    <tr>\n",
       "      <th>number_of_applications</th>\n",
       "      <td>0</td>\n",
       "      <td>0.000000</td>\n",
       "    </tr>\n",
       "  </tbody>\n",
       "</table>\n",
       "</div>"
      ],
      "text/plain": [
       "                             count          %\n",
       "program_duration_days          616  24.213836\n",
       "gender                         492  19.339623\n",
       "work_authorization_status      284  11.163522\n",
       "employment_status              229   9.001572\n",
       "professional_experience        222   8.726415\n",
       "number_of_interviews           218   8.569182\n",
       "length_of_job_search            74   2.908805\n",
       "highest_level_of_education      58   2.279874\n",
       "biggest_challenge_in_search     24   0.943396\n",
       "race                            18   0.707547\n",
       "cohort_tag                       8   0.314465\n",
       "id                               0   0.000000\n",
       "company_status                   0   0.000000\n",
       "primary_track                    0   0.000000\n",
       "placed                           0   0.000000\n",
       "number_of_applications           0   0.000000"
      ]
     },
     "execution_count": 276,
     "metadata": {},
     "output_type": "execute_result"
    }
   ],
   "source": [
    "#count the number of missing values\n",
    "miss_value = pd.concat([df.isnull().sum(), 100 * df.isnull().mean()], axis=1)\n",
    "miss_value.columns=['count', '%']\n",
    "miss_value.sort_values(by=['%'],ascending=False)"
   ]
  },
  {
   "cell_type": "markdown",
   "id": "4a96b72a",
   "metadata": {},
   "source": [
    "None of the columns has missing values above 25%."
   ]
  },
  {
   "cell_type": "markdown",
   "id": "6498eff2",
   "metadata": {},
   "source": [
    "# How often fellows at Pathrise are placed"
   ]
  },
  {
   "cell_type": "code",
   "execution_count": 277,
   "id": "e56e59e3",
   "metadata": {},
   "outputs": [
    {
     "data": {
      "text/html": [
       "<div>\n",
       "<style scoped>\n",
       "    .dataframe tbody tr th:only-of-type {\n",
       "        vertical-align: middle;\n",
       "    }\n",
       "\n",
       "    .dataframe tbody tr th {\n",
       "        vertical-align: top;\n",
       "    }\n",
       "\n",
       "    .dataframe thead th {\n",
       "        text-align: right;\n",
       "    }\n",
       "</style>\n",
       "<table border=\"1\" class=\"dataframe\">\n",
       "  <thead>\n",
       "    <tr style=\"text-align: right;\">\n",
       "      <th>placed</th>\n",
       "      <th>False</th>\n",
       "      <th>True</th>\n",
       "    </tr>\n",
       "    <tr>\n",
       "      <th>placed</th>\n",
       "      <th></th>\n",
       "      <th></th>\n",
       "    </tr>\n",
       "  </thead>\n",
       "  <tbody>\n",
       "    <tr>\n",
       "      <th>False</th>\n",
       "      <td>0</td>\n",
       "      <td>1588</td>\n",
       "    </tr>\n",
       "    <tr>\n",
       "      <th>True</th>\n",
       "      <td>956</td>\n",
       "      <td>0</td>\n",
       "    </tr>\n",
       "  </tbody>\n",
       "</table>\n",
       "</div>"
      ],
      "text/plain": [
       "placed  False  True \n",
       "placed              \n",
       "False       0   1588\n",
       "True      956      0"
      ]
     },
     "execution_count": 277,
     "metadata": {},
     "output_type": "execute_result"
    }
   ],
   "source": [
    "df_placed = df.groupby([df['placed'] == 1, df['placed'] == 0]).size().unstack(fill_value=0)\n",
    "df_placed"
   ]
  },
  {
   "cell_type": "code",
   "execution_count": 278,
   "id": "9ef26bf1",
   "metadata": {
    "scrolled": true
   },
   "outputs": [
    {
     "data": {
      "image/png": "[encoded data removed]",
      "text/plain": [
       "<Figure size 432x288 with 1 Axes>"
      ]
     },
     "metadata": {
      "needs_background": "light"
     },
     "output_type": "display_data"
    }
   ],
   "source": [
    "ax = df_placed.plot.bar(rot=0, grid = 'on', ylabel ='how often placement happens', \n",
    "                                  xlabel = 'fellow was placed', title = \"fellows' placement\")\n",
    "ax.get_legend().remove()"
   ]
  },
  {
   "cell_type": "markdown",
   "id": "9a5a7430",
   "metadata": {},
   "source": [
    "From the plot above, not every fellow was placed. Out of the 2544 total fellows in the program, only 956 were placed. That's only 37.6%. This percentage is taking into account rows with missing values. We should know that rows with missing values could be as a result of many factors. One could be because a fellow isn't placed yet and probably still active in the program. Let's drop missing rows with values and see how the result is affected."
   ]
  },
  {
   "cell_type": "code",
   "execution_count": 279,
   "id": "e8726956",
   "metadata": {},
   "outputs": [],
   "source": [
    "Placed_without_Missing_Values=df.dropna(axis = 0, how ='any')"
   ]
  },
  {
   "cell_type": "code",
   "execution_count": 280,
   "id": "aecb1a97",
   "metadata": {
    "scrolled": true
   },
   "outputs": [
    {
     "data": {
      "text/html": [
       "<div>\n",
       "<style scoped>\n",
       "    .dataframe tbody tr th:only-of-type {\n",
       "        vertical-align: middle;\n",
       "    }\n",
       "\n",
       "    .dataframe tbody tr th {\n",
       "        vertical-align: top;\n",
       "    }\n",
       "\n",
       "    .dataframe thead th {\n",
       "        text-align: right;\n",
       "    }\n",
       "</style>\n",
       "<table border=\"1\" class=\"dataframe\">\n",
       "  <thead>\n",
       "    <tr style=\"text-align: right;\">\n",
       "      <th>placed</th>\n",
       "      <th>False</th>\n",
       "      <th>True</th>\n",
       "    </tr>\n",
       "    <tr>\n",
       "      <th>placed</th>\n",
       "      <th></th>\n",
       "      <th></th>\n",
       "    </tr>\n",
       "  </thead>\n",
       "  <tbody>\n",
       "    <tr>\n",
       "      <th>False</th>\n",
       "      <td>0</td>\n",
       "      <td>487</td>\n",
       "    </tr>\n",
       "    <tr>\n",
       "      <th>True</th>\n",
       "      <td>501</td>\n",
       "      <td>0</td>\n",
       "    </tr>\n",
       "  </tbody>\n",
       "</table>\n",
       "</div>"
      ],
      "text/plain": [
       "placed  False  True \n",
       "placed              \n",
       "False       0    487\n",
       "True      501      0"
      ]
     },
     "metadata": {},
     "output_type": "display_data"
    }
   ],
   "source": [
    "\n",
    "Placed_without_Missing_Values = Placed_without_Missing_Values.groupby([Placed_without_Missing_Values['placed'] == 1, Placed_without_Missing_Values['placed'] == 0]).size().unstack(fill_value=0)\n",
    "display(Placed_without_Missing_Values)"
   ]
  },
  {
   "cell_type": "markdown",
   "id": "9ec9374e",
   "metadata": {},
   "source": [
    "The number of fellows placed droped from 956 to 501. That's 52% decrease for placed fellows, but 97% overall for placement. The non-placed fellow number went down from 1588 to 487, that's 30% decrease compare to about 62% when missing values were not removed. This means that majority of non-placed fellows had missing info which could mean inactive or some sort of status with Pathrise."
   ]
  },
  {
   "cell_type": "markdown",
   "id": "cc697290",
   "metadata": {},
   "source": [
    "# Each column on the dataset is vital, hence lets see how each column compares with placement. "
   ]
  },
  {
   "cell_type": "markdown",
   "id": "9eb655ae",
   "metadata": {},
   "source": [
    "Let's see how many times Pathrise classifies a fellow as placed."
   ]
  },
  {
   "cell_type": "code",
   "execution_count": 281,
   "id": "493e7a8e",
   "metadata": {
    "scrolled": true
   },
   "outputs": [
    {
     "data": {
      "text/html": [
       "<div>\n",
       "<style scoped>\n",
       "    .dataframe tbody tr th:only-of-type {\n",
       "        vertical-align: middle;\n",
       "    }\n",
       "\n",
       "    .dataframe tbody tr th {\n",
       "        vertical-align: top;\n",
       "    }\n",
       "\n",
       "    .dataframe thead th {\n",
       "        text-align: right;\n",
       "    }\n",
       "</style>\n",
       "<table border=\"1\" class=\"dataframe\">\n",
       "  <thead>\n",
       "    <tr style=\"text-align: right;\">\n",
       "      <th></th>\n",
       "      <th>0</th>\n",
       "      <th>1</th>\n",
       "    </tr>\n",
       "    <tr>\n",
       "      <th>company_status</th>\n",
       "      <th></th>\n",
       "      <th></th>\n",
       "    </tr>\n",
       "  </thead>\n",
       "  <tbody>\n",
       "    <tr>\n",
       "      <th>Placed</th>\n",
       "      <td>956.0</td>\n",
       "      <td>NaN</td>\n",
       "    </tr>\n",
       "    <tr>\n",
       "      <th>Active</th>\n",
       "      <td>NaN</td>\n",
       "      <td>532.0</td>\n",
       "    </tr>\n",
       "    <tr>\n",
       "      <th>Break</th>\n",
       "      <td>NaN</td>\n",
       "      <td>32.0</td>\n",
       "    </tr>\n",
       "    <tr>\n",
       "      <th>Closed Lost</th>\n",
       "      <td>NaN</td>\n",
       "      <td>182.0</td>\n",
       "    </tr>\n",
       "    <tr>\n",
       "      <th>Deferred</th>\n",
       "      <td>NaN</td>\n",
       "      <td>34.0</td>\n",
       "    </tr>\n",
       "  </tbody>\n",
       "</table>\n",
       "</div>"
      ],
      "text/plain": [
       "                    0      1\n",
       "company_status              \n",
       "Placed          956.0    NaN\n",
       "Active            NaN  532.0\n",
       "Break             NaN   32.0\n",
       "Closed Lost       NaN  182.0\n",
       "Deferred          NaN   34.0"
      ]
     },
     "execution_count": 281,
     "metadata": {},
     "output_type": "execute_result"
    }
   ],
   "source": [
    "placed = df[df['placed'] == 1].groupby(\"company_status\").size()\n",
    "non_placed = df[df['placed'] == 0].groupby(\"company_status\").size()\n",
    "status_and_placement = pd.concat([placed, non_placed], axis = 1)\n",
    "status_and_placement.head()"
   ]
  },
  {
   "cell_type": "markdown",
   "id": "74722e32",
   "metadata": {},
   "source": [
    "I need to rename the columns 0 as placed and 1 as non_placed"
   ]
  },
  {
   "cell_type": "code",
   "execution_count": 282,
   "id": "e796b3f1",
   "metadata": {
    "scrolled": true
   },
   "outputs": [
    {
     "data": {
      "text/html": [
       "<div>\n",
       "<style scoped>\n",
       "    .dataframe tbody tr th:only-of-type {\n",
       "        vertical-align: middle;\n",
       "    }\n",
       "\n",
       "    .dataframe tbody tr th {\n",
       "        vertical-align: top;\n",
       "    }\n",
       "\n",
       "    .dataframe thead th {\n",
       "        text-align: right;\n",
       "    }\n",
       "</style>\n",
       "<table border=\"1\" class=\"dataframe\">\n",
       "  <thead>\n",
       "    <tr style=\"text-align: right;\">\n",
       "      <th></th>\n",
       "      <th>placed</th>\n",
       "      <th>non-placed</th>\n",
       "    </tr>\n",
       "    <tr>\n",
       "      <th>company_status</th>\n",
       "      <th></th>\n",
       "      <th></th>\n",
       "    </tr>\n",
       "  </thead>\n",
       "  <tbody>\n",
       "    <tr>\n",
       "      <th>Placed</th>\n",
       "      <td>956.0</td>\n",
       "      <td>NaN</td>\n",
       "    </tr>\n",
       "    <tr>\n",
       "      <th>Active</th>\n",
       "      <td>NaN</td>\n",
       "      <td>532.0</td>\n",
       "    </tr>\n",
       "    <tr>\n",
       "      <th>Break</th>\n",
       "      <td>NaN</td>\n",
       "      <td>32.0</td>\n",
       "    </tr>\n",
       "    <tr>\n",
       "      <th>Closed Lost</th>\n",
       "      <td>NaN</td>\n",
       "      <td>182.0</td>\n",
       "    </tr>\n",
       "    <tr>\n",
       "      <th>Deferred</th>\n",
       "      <td>NaN</td>\n",
       "      <td>34.0</td>\n",
       "    </tr>\n",
       "    <tr>\n",
       "      <th>MIA</th>\n",
       "      <td>NaN</td>\n",
       "      <td>52.0</td>\n",
       "    </tr>\n",
       "    <tr>\n",
       "      <th>Withdrawn</th>\n",
       "      <td>NaN</td>\n",
       "      <td>398.0</td>\n",
       "    </tr>\n",
       "    <tr>\n",
       "      <th>Withdrawn (Failed)</th>\n",
       "      <td>NaN</td>\n",
       "      <td>82.0</td>\n",
       "    </tr>\n",
       "    <tr>\n",
       "      <th>Withdrawn (Trial)</th>\n",
       "      <td>NaN</td>\n",
       "      <td>276.0</td>\n",
       "    </tr>\n",
       "  </tbody>\n",
       "</table>\n",
       "</div>"
      ],
      "text/plain": [
       "                    placed  non-placed\n",
       "company_status                        \n",
       "Placed               956.0         NaN\n",
       "Active                 NaN       532.0\n",
       "Break                  NaN        32.0\n",
       "Closed Lost            NaN       182.0\n",
       "Deferred               NaN        34.0\n",
       "MIA                    NaN        52.0\n",
       "Withdrawn              NaN       398.0\n",
       "Withdrawn (Failed)     NaN        82.0\n",
       "Withdrawn (Trial)      NaN       276.0"
      ]
     },
     "execution_count": 282,
     "metadata": {},
     "output_type": "execute_result"
    }
   ],
   "source": [
    "status_and_placement =status_and_placement.rename(columns = {0: \"placed\",1: \"non-placed\"})\n",
    "status_and_placement"
   ]
  },
  {
   "cell_type": "markdown",
   "id": "61f38d05",
   "metadata": {},
   "source": [
    "Visualizing pathrise status"
   ]
  },
  {
   "cell_type": "code",
   "execution_count": 283,
   "id": "f0e81efe",
   "metadata": {},
   "outputs": [
    {
     "data": {
      "image/png": "[encoded data removed]",
      "text/plain": [
       "<Figure size 432x288 with 1 Axes>"
      ]
     },
     "metadata": {
      "needs_background": "light"
     },
     "output_type": "display_data"
    }
   ],
   "source": [
    "ax = status_and_placement.plot.bar(alpha=0.5, title ='company_status', ylabel='number of times')"
   ]
  },
  {
   "cell_type": "markdown",
   "id": "8e123859",
   "metadata": {},
   "source": [
    "From the plot above, Pathrise have alot of active and withdrawn fellows whih could explain the difference in result when i droped rows with missing values."
   ]
  },
  {
   "cell_type": "markdown",
   "id": "5f814de2",
   "metadata": {},
   "source": [
    "# How long does placed fellows stay with Pathrise before placement?"
   ]
  },
  {
   "cell_type": "markdown",
   "id": "62a6ea79",
   "metadata": {},
   "source": [
    "To best answer this questions, I will use the info provided in program_duration_days column and company status column."
   ]
  },
  {
   "cell_type": "code",
   "execution_count": 284,
   "id": "de9130d8",
   "metadata": {},
   "outputs": [
    {
     "data": {
      "text/plain": [
       "(array([0, 1, 2, 3, 4, 5, 6, 7, 8]),\n",
       " [Text(0, 0, 'Active'),\n",
       "  Text(1, 0, 'Closed Lost'),\n",
       "  Text(2, 0, 'Placed'),\n",
       "  Text(3, 0, 'Withdrawn (Failed)'),\n",
       "  Text(4, 0, 'Withdrawn (Trial)'),\n",
       "  Text(5, 0, 'Withdrawn'),\n",
       "  Text(6, 0, 'Deferred'),\n",
       "  Text(7, 0, 'Break'),\n",
       "  Text(8, 0, 'MIA')])"
      ]
     },
     "execution_count": 284,
     "metadata": {},
     "output_type": "execute_result"
    },
    {
     "data": {
      "image/png": "[encoded data removed]",
      "text/plain": [
       "<Figure size 432x288 with 1 Axes>"
      ]
     },
     "metadata": {
      "needs_background": "light"
     },
     "output_type": "display_data"
    }
   ],
   "source": [
    "ax = sns.barplot(data=df, y = 'program_duration_days',x= 'company_status', hue = 'placed')\n",
    "ax.set_title(\"How many days placement took to happen\")\n",
    "plt.xticks(rotation=90)"
   ]
  },
  {
   "cell_type": "markdown",
   "id": "b488cb3b",
   "metadata": {},
   "source": [
    "Here we see that it took ideally about 160 days for a fellow to be placed. This is approximately 5 months. Fellows who decided to sit it out after the 160 days either withdrew or ran out of time waiting for placement at 400 days. Those fellows are then classified as failed."
   ]
  },
  {
   "cell_type": "markdown",
   "id": "99abe466",
   "metadata": {},
   "source": [
    "# Type of work authorization the placed fellow have"
   ]
  },
  {
   "cell_type": "code",
   "execution_count": 285,
   "id": "2a723bf9",
   "metadata": {},
   "outputs": [
    {
     "data": {
      "text/plain": [
       "(array([0, 1, 2, 3, 4, 5, 6, 7, 8]),\n",
       " [Text(0, 0, 'Canada Citizen'),\n",
       "  Text(1, 0, 'Citizen'),\n",
       "  Text(2, 0, 'F1 Visa/OPT'),\n",
       "  Text(3, 0, 'Green Card'),\n",
       "  Text(4, 0, 'F1 Visa/CPT'),\n",
       "  Text(5, 0, 'Other'),\n",
       "  Text(6, 0, 'STEM OPT'),\n",
       "  Text(7, 0, 'Not Authorized'),\n",
       "  Text(8, 0, 'H1B')])"
      ]
     },
     "execution_count": 285,
     "metadata": {},
     "output_type": "execute_result"
    },
    {
     "data": {
      "image/png": "[encoded data removed]",
      "text/plain": [
       "<Figure size 432x288 with 1 Axes>"
      ]
     },
     "metadata": {
      "needs_background": "light"
     },
     "output_type": "display_data"
    }
   ],
   "source": [
    "ax = sns.barplot(data=df, y = 'program_duration_days',x= 'work_authorization_status', hue = 'placed')\n",
    "ax.set_title(\"Placement based on work authorization\")\n",
    "plt.xticks(rotation=90)"
   ]
  },
  {
   "cell_type": "markdown",
   "id": "33dcd54a",
   "metadata": {},
   "source": [
    "Looking at the above plot, we see that it took Canada citizens more days to land a job compare to American citizens. Fellows with STEMP OPT, H1B, and Green Card spent the ideal time in the program before landing a job. Fellows with work authorization classified as others spent less time in program. They are also more likely to placed before 150 days. They have lowest program days after fellows with no work authorization. Another take away here is that Canadan Citizens tends to stick around till the end of the program compared to others."
   ]
  },
  {
   "cell_type": "markdown",
   "id": "5f6c8572",
   "metadata": {},
   "source": [
    "# Placement based on Gender"
   ]
  },
  {
   "cell_type": "code",
   "execution_count": 286,
   "id": "6c6d0241",
   "metadata": {
    "scrolled": true
   },
   "outputs": [
    {
     "data": {
      "text/plain": [
       "(array([0, 1, 2, 3]),\n",
       " [Text(0, 0, 'Male'),\n",
       "  Text(1, 0, 'Female'),\n",
       "  Text(2, 0, 'Decline to Self Identify'),\n",
       "  Text(3, 0, 'Non-Binary')])"
      ]
     },
     "execution_count": 286,
     "metadata": {},
     "output_type": "execute_result"
    },
    {
     "data": {
      "image/png": "[encoded data removed]",
      "text/plain": [
       "<Figure size 432x288 with 1 Axes>"
      ]
     },
     "metadata": {
      "needs_background": "light"
     },
     "output_type": "display_data"
    }
   ],
   "source": [
    "ax = sns.barplot(data=df, y = 'program_duration_days',x= 'gender', hue = 'placed')\n",
    "ax.set_title(\"Placement based on gender\")\n",
    "plt.xticks(rotation=90)"
   ]
  },
  {
   "cell_type": "markdown",
   "id": "7432fbf1",
   "metadata": {},
   "source": [
    "The numbers of self identified male and female in the program who were placed were about the same. Males had the high rejection rate compared to females. Fellows who identified as Non-Binary has the highest rejection rate. "
   ]
  },
  {
   "cell_type": "markdown",
   "id": "fcd58252",
   "metadata": {},
   "source": [
    "# Placement based on Length of Job Search"
   ]
  },
  {
   "cell_type": "code",
   "execution_count": 287,
   "id": "848d6113",
   "metadata": {
    "scrolled": true
   },
   "outputs": [
    {
     "data": {
      "text/plain": [
       "(array([0, 1, 2, 3, 4]),\n",
       " [Text(0, 0, 'Less than one month'),\n",
       "  Text(1, 0, '1-2 months'),\n",
       "  Text(2, 0, '3-5 months'),\n",
       "  Text(3, 0, '6 months to a year'),\n",
       "  Text(4, 0, 'Over a year')])"
      ]
     },
     "execution_count": 287,
     "metadata": {},
     "output_type": "execute_result"
    },
    {
     "data": {
      "image/png": "[encoded data removed]",
      "text/plain": [
       "<Figure size 432x288 with 1 Axes>"
      ]
     },
     "metadata": {
      "needs_background": "light"
     },
     "output_type": "display_data"
    }
   ],
   "source": [
    "x, y, hue = 'length_of_job_search', 'proportion', \"placed\"\n",
    "(df[x]\n",
    " .groupby(df[hue])\n",
    " .value_counts(normalize=True)\n",
    " .rename(y)\n",
    " .reset_index()\n",
    " .pipe((sns.barplot, \"data\"), x=x, y=y, hue=hue))\n",
    "plt.title(\"Placement based on length of job search\")\n",
    "plt.xticks(rotation=90)"
   ]
  },
  {
   "cell_type": "markdown",
   "id": "c5f4a1a0",
   "metadata": {},
   "source": [
    "This plot just confirmed that the ideal number for landing a job with Pathrise is about 160 days(3-5months on the plot) with losts of non-placed who withdrew. Something interesting to note here is that as a fellow crosses the 3-5 months mark, the number of non-placed starts stabilizing and matching the number placed fellows. This means that a fellow who will stays till the end of the program only have 50% chance of being placed compare to a fellow is currently spending 1 to 2 months. As fellows cross 2 months in the program, their chances of being classified as non-placed increases significantly before stabilizing after 6 months."
   ]
  },
  {
   "cell_type": "markdown",
   "id": "7e61a867",
   "metadata": {},
   "source": [
    "# Placement based on level of education"
   ]
  },
  {
   "cell_type": "code",
   "execution_count": 288,
   "id": "24fc1811",
   "metadata": {
    "scrolled": true
   },
   "outputs": [
    {
     "data": {
      "text/plain": [
       "(array([0, 1, 2, 3, 4, 5, 6]),\n",
       " [Text(0, 0, \"Bachelor's Degree\"),\n",
       "  Text(1, 0, \"Master's Degree\"),\n",
       "  Text(2, 0, 'Some College, No Degree'),\n",
       "  Text(3, 0, 'Doctorate or Professional Degree'),\n",
       "  Text(4, 0, 'Some High School'),\n",
       "  Text(5, 0, 'GED or equivalent'),\n",
       "  Text(6, 0, 'High School Graduate')])"
      ]
     },
     "execution_count": 288,
     "metadata": {},
     "output_type": "execute_result"
    },
    {
     "data": {
      "image/png": "[encoded data removed]",
      "text/plain": [
       "<Figure size 432x288 with 1 Axes>"
      ]
     },
     "metadata": {
      "needs_background": "light"
     },
     "output_type": "display_data"
    }
   ],
   "source": [
    "x, y, hue = 'highest_level_of_education', 'proportion', \"placed\" \n",
    "(df[x]\n",
    " .groupby(df[hue])\n",
    " .value_counts(normalize=True)\n",
    " .rename(y)\n",
    " .reset_index()\n",
    " .pipe((sns.barplot, \"data\"), x=x, y=y, hue=hue))\n",
    "plt.title(\"Placement based on level of education\")\n",
    "plt.xticks(rotation=90)\n"
   ]
  },
  {
   "cell_type": "markdown",
   "id": "22d4690e",
   "metadata": {},
   "source": [
    "Majority of the fellows have Bachelor's degree and more likely to be placed, follwed by Doctorate's degree and then High school graduates. Fellows with GED had 50-50 chance. "
   ]
  },
  {
   "cell_type": "markdown",
   "id": "a02e25d7",
   "metadata": {},
   "source": [
    "# Placement based on primary track"
   ]
  },
  {
   "cell_type": "code",
   "execution_count": 289,
   "id": "4cb1c1d7",
   "metadata": {
    "scrolled": false
   },
   "outputs": [
    {
     "data": {
      "text/plain": [
       "(array([0, 1, 2, 3, 4, 5]),\n",
       " [Text(0, 0, 'SWE'),\n",
       "  Text(1, 0, 'PSO'),\n",
       "  Text(2, 0, 'Design'),\n",
       "  Text(3, 0, 'Data'),\n",
       "  Text(4, 0, 'Web'),\n",
       "  Text(5, 0, 'Marketing')])"
      ]
     },
     "execution_count": 289,
     "metadata": {},
     "output_type": "execute_result"
    },
    {
     "data": {
      "image/png": "[encoded data removed]",
      "text/plain": [
       "<Figure size 432x288 with 1 Axes>"
      ]
     },
     "metadata": {
      "needs_background": "light"
     },
     "output_type": "display_data"
    }
   ],
   "source": [
    "x, y, hue = 'primary_track', 'proportion', \"placed\" \n",
    "(df[x]\n",
    " .groupby(df[hue])\n",
    " .value_counts(normalize=True)\n",
    " .rename(y)\n",
    " .reset_index()\n",
    " .pipe((sns.barplot, \"data\"), x=x, y=y, hue=hue))\n",
    "plt.title(\"Placement based on primary track\")\n",
    "plt.xticks(rotation=90)\n"
   ]
  },
  {
   "cell_type": "markdown",
   "id": "769922e2",
   "metadata": {},
   "source": [
    "Fellows on SWE were morely to be placed. PSO track has the highest non-placement rate followed by Design and Data."
   ]
  },
  {
   "cell_type": "markdown",
   "id": "42e21f7e",
   "metadata": {},
   "source": [
    "# Placement based on Biggest Challenge during job search"
   ]
  },
  {
   "cell_type": "code",
   "execution_count": 290,
   "id": "7ad4e590",
   "metadata": {
    "scrolled": true
   },
   "outputs": [
    {
     "data": {
      "text/plain": [
       "(array([0, 1, 2, 3, 4, 5, 6, 7, 8, 9]),\n",
       " [Text(0, 0, 'Hearing back on my applications'),\n",
       "  Text(1, 0, 'Technical interviewing'),\n",
       "  Text(2, 0, 'Getting past final round interviews'),\n",
       "  Text(3, 0, 'Lack of relevant experience'),\n",
       "  Text(4, 0, 'Getting past mid-stage interviews'),\n",
       "  Text(5, 0, 'Figuring out which jobs to apply for'),\n",
       "  Text(6, 0, 'Getting past phone screens'),\n",
       "  Text(7, 0, 'Behavioral interviewing'),\n",
       "  Text(8, 0, 'Resume gap'),\n",
       "  Text(9, 0, 'Technical skills')])"
      ]
     },
     "execution_count": 290,
     "metadata": {},
     "output_type": "execute_result"
    },
    {
     "data": {
      "image/png": "[encoded data removed]",
      "text/plain": [
       "<Figure size 432x288 with 1 Axes>"
      ]
     },
     "metadata": {
      "needs_background": "light"
     },
     "output_type": "display_data"
    }
   ],
   "source": [
    "x, y, hue = 'biggest_challenge_in_search', 'proportion', \"placed\" \n",
    "(df[x]\n",
    " .groupby(df[hue])\n",
    " .value_counts(normalize=True)\n",
    " .rename(y)\n",
    " .reset_index()\n",
    " .pipe((sns.barplot, \"data\"), x=x, y=y, hue=hue))\n",
    "plt.title(\"Placement based on Job search challenge\")\n",
    "plt.xticks(rotation=90)\n"
   ]
  },
  {
   "cell_type": "markdown",
   "id": "050afcd6",
   "metadata": {},
   "source": [
    "Fellows who reported having trouble hearing back on their application had the highest proportion of placed and also more likely not to be placed. Successful fellow were more likely to report Getting past final round of interview as one of their issues. Fellows who were having trouble figuring out which job to apply to were more likely to be placed. Lack of technical skills and resume gap  are good indicator of a fellow who would have a hard time being placed according to the plot."
   ]
  },
  {
   "cell_type": "markdown",
   "id": "3b107e5b",
   "metadata": {},
   "source": [
    "# Placement based on Professional Experience"
   ]
  },
  {
   "cell_type": "code",
   "execution_count": 291,
   "id": "3f6d053b",
   "metadata": {
    "scrolled": true
   },
   "outputs": [
    {
     "data": {
      "text/plain": [
       "<Figure size 576x144 with 0 Axes>"
      ]
     },
     "execution_count": 291,
     "metadata": {},
     "output_type": "execute_result"
    },
    {
     "data": {
      "image/png": "[encoded data removed]",
      "text/plain": [
       "<Figure size 432x288 with 1 Axes>"
      ]
     },
     "metadata": {
      "needs_background": "light"
     },
     "output_type": "display_data"
    },
    {
     "data": {
      "text/plain": [
       "<Figure size 576x144 with 0 Axes>"
      ]
     },
     "metadata": {},
     "output_type": "display_data"
    }
   ],
   "source": [
    "x, y, hue = 'professional_experience', 'proportion', \"placed\" \n",
    "(df[x]\n",
    " .groupby(df[hue])\n",
    " .value_counts(normalize=True)\n",
    " .rename(y)\n",
    " .reset_index()\n",
    " .pipe((sns.barplot, \"data\"), x=x, y=y, hue=hue))\n",
    "plt.title(\"Placement based on professional experience\")\n",
    "plt.figure(figsize=(8, 2))\n",
    "#plt.xticks(rotation=90)\n"
   ]
  },
  {
   "cell_type": "markdown",
   "id": "3779c751",
   "metadata": {},
   "source": [
    "From the plot, we see that fellows that goes through Pathrise are mostly in their early career. The chances of being classified as non-placed were very low for fellows with 5+ years of experience. Majority of fellows at Pathrise only have 0-2 years experience. Fellows with 3+ years experience had better placement rate compared to 5+ years and fellow with less than one year of experience. "
   ]
  },
  {
   "cell_type": "markdown",
   "id": "08f1ded1",
   "metadata": {},
   "source": [
    "# Conclusion"
   ]
  },
  {
   "cell_type": "markdown",
   "id": "16b39e88",
   "metadata": {},
   "source": [
    "It is very hard to pin point one factor that affects fellows' placement. All the factors considered aboved seemed to be important and should be taken seriously. The dataset didn't give clues about fellows motivation or other personaly reasons that could have impacted their placements. To end this datastory telling, I will visualize the number of applications, interviews fellows got and how it correlates to the chances of fellows being placed. "
   ]
  },
  {
   "cell_type": "code",
   "execution_count": 292,
   "id": "3ef4820d",
   "metadata": {
    "scrolled": true
   },
   "outputs": [
    {
     "data": {
      "text/plain": [
       "<seaborn.axisgrid.FacetGrid at 0x13382f8b0>"
      ]
     },
     "execution_count": 292,
     "metadata": {},
     "output_type": "execute_result"
    },
    {
     "data": {
      "image/png": "[encoded data removed]",
      "text/plain": [
       "<Figure size 402.375x360 with 1 Axes>"
      ]
     },
     "metadata": {
      "needs_background": "light"
     },
     "output_type": "display_data"
    }
   ],
   "source": [
    "sns.relplot(y='number_of_applications', x=\"number_of_interviews\", hue=\"placed\", data=df)"
   ]
  },
  {
   "cell_type": "markdown",
   "id": "8fab45ff",
   "metadata": {},
   "source": [
    "As we see here that there were fellows who turned in upto 1000 applications and still didn't get a job. From the plot, it is quite obvious that the most placed fellows only turned in max of about 400 applications and got a job on their 11th interview approximately. Job search is completed and no one factor could be said to be the reason why a fellow didn't get a job. "
   ]
  },
  {
   "cell_type": "markdown",
   "id": "d14d9b98",
   "metadata": {},
   "source": [
    "# Recommendations"
   ]
  },
  {
   "cell_type": "markdown",
   "id": "5676d980",
   "metadata": {},
   "source": [
    "1. I would recommend Pathrise tracks number of connects each fellows make. Networking seems to be one of the helping factors for landing a job.\n",
    "\n",
    "2. There was no information on the quality of resume each fellow used during the program. I would recommend Pathrise creates a tracking system for resume quality. from my experience some career coaching entities hardly know about quality of resume content. They only help job seekers with formating.\n",
    "\n",
    "3. Provide one-on-one mentor would go over fellows' resume before they submit it for job application. Sounds like a hard job but it will help increase the 38% of placement as we saw on earlier. "
   ]
  }
 ],
 "metadata": {
  "kernelspec": {
   "display_name": "Python 3",
   "language": "python",
   "name": "python3"
  },
  "language_info": {
   "codemirror_mode": {
    "name": "ipython",
    "version": 3
   },
   "file_extension": ".py",
   "mimetype": "text/x-python",
   "name": "python",
   "nbconvert_exporter": "python",
   "pygments_lexer": "ipython3",
   "version": "3.8.2"
  }
 },
 "nbformat": 4,
 "nbformat_minor": 5
}
