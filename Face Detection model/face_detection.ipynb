{
 "cells": [
  {
   "cell_type": "code",
   "execution_count": 3,
   "id": "9f16bd2e",
   "metadata": {
    "scrolled": true
   },
   "outputs": [
    {
     "name": "stdout",
     "output_type": "stream",
     "text": [
      "Collecting image\n",
      "  Downloading image-1.5.33.tar.gz (15 kB)\n",
      "Requirement already satisfied: pillow in /Applications/anaconda3/envs/springboard/lib/python3.8/site-packages (from image) (8.2.0)\n",
      "Collecting django\n",
      "  Downloading Django-3.2.4-py3-none-any.whl (7.9 MB)\n",
      "\u001b[K     |████████████████████████████████| 7.9 MB 4.8 MB/s eta 0:00:01     |███████████████████▎            | 4.7 MB 6.8 MB/s eta 0:00:01\n",
      "\u001b[?25hRequirement already satisfied: six in /Applications/anaconda3/envs/springboard/lib/python3.8/site-packages (from image) (1.15.0)\n",
      "Collecting sqlparse>=0.2.2\n",
      "  Using cached sqlparse-0.4.1-py3-none-any.whl (42 kB)\n",
      "Requirement already satisfied: pytz in /Applications/anaconda3/envs/springboard/lib/python3.8/site-packages (from django->image) (2021.1)\n",
      "Collecting asgiref<4,>=3.3.2\n",
      "  Downloading asgiref-3.3.4-py3-none-any.whl (22 kB)\n",
      "Building wheels for collected packages: image\n",
      "  Building wheel for image (setup.py) ... \u001b[?25ldone\n",
      "\u001b[?25h  Created wheel for image: filename=image-1.5.33-py2.py3-none-any.whl size=19482 sha256=340483ddedde9ec923f8afc6f873b3d9ce0739f46eb6beb894c88715e99dcc60\n",
      "  Stored in directory: /Users/goldenrule/Library/Caches/pip/wheels/ac/30/5c/a8b33888bea3507eda7c924a143d34b2390d2ca5b145b327b5\n",
      "Successfully built image\n",
      "Installing collected packages: sqlparse, asgiref, django, image\n",
      "Successfully installed asgiref-3.3.4 django-3.2.4 image-1.5.33 sqlparse-0.4.1\n",
      "Note: you may need to restart the kernel to use updated packages.\n"
     ]
    }
   ],
   "source": [
    "#pip install image"
   ]
  },
  {
   "cell_type": "code",
   "execution_count": 6,
   "id": "09833ad5",
   "metadata": {},
   "outputs": [
    {
     "name": "stdout",
     "output_type": "stream",
     "text": [
      "Collecting cmake\n",
      "  Downloading cmake-3.20.3-py2.py3-none-macosx_10_10_universal2.macosx_10_10_x86_64.macosx_11_0_arm64.macosx_11_0_universal2.whl (70.8 MB)\n",
      "\u001b[K     |████████████████████████████████| 70.8 MB 20.0 MB/s eta 0:00:01    |████▋                           | 10.3 MB 2.5 MB/s eta 0:00:25\n",
      "\u001b[?25hInstalling collected packages: cmake\n",
      "Successfully installed cmake-3.20.3\n"
     ]
    }
   ],
   "source": [
    "#!pip install cmake"
   ]
  },
  {
   "cell_type": "code",
   "execution_count": 2,
   "id": "1c08e6f1",
   "metadata": {
    "scrolled": true
   },
   "outputs": [
    {
     "name": "stdout",
     "output_type": "stream",
     "text": [
      "Collecting face_recognition\n",
      "  Using cached face_recognition-1.3.0-py2.py3-none-any.whl (15 kB)\n",
      "Requirement already satisfied: numpy in /Applications/anaconda3/envs/springboard/lib/python3.8/site-packages (from face_recognition) (1.20.2)\n",
      "Requirement already satisfied: Pillow in /Applications/anaconda3/envs/springboard/lib/python3.8/site-packages (from face_recognition) (8.2.0)\n",
      "Collecting dlib>=19.7\n",
      "  Using cached dlib-19.22.0.tar.gz (7.4 MB)\n",
      "Collecting face-recognition-models>=0.3.0\n",
      "  Using cached face_recognition_models-0.3.0-py2.py3-none-any.whl\n",
      "Collecting Click>=6.0\n",
      "  Downloading click-8.0.1-py3-none-any.whl (97 kB)\n",
      "\u001b[K     |████████████████████████████████| 97 kB 1.7 MB/s eta 0:00:01\n",
      "\u001b[?25hBuilding wheels for collected packages: dlib\n",
      "  Building wheel for dlib (setup.py) ... \u001b[?25ldone\n",
      "\u001b[?25h  Created wheel for dlib: filename=dlib-19.22.0-cp38-cp38-macosx_10_12_x86_64.whl size=3600878 sha256=22994ea7dd12be0f10dce7bf2a2cf1ae817e166116ed4a6dd357c5346ea43154\n",
      "  Stored in directory: /Users/goldenrule/Library/Caches/pip/wheels/80/93/82/7b6b3974475c898a823b58a6c0b87013f0782095d43b910e64\n",
      "Successfully built dlib\n",
      "Installing collected packages: face-recognition-models, dlib, Click, face-recognition\n",
      "Successfully installed Click-8.0.1 dlib-19.22.0 face-recognition-1.3.0 face-recognition-models-0.3.0\n",
      "Note: you may need to restart the kernel to use updated packages.\n"
     ]
    }
   ],
   "source": [
    "#pip install face_recognition"
   ]
  },
  {
   "cell_type": "code",
   "execution_count": 3,
   "id": "4baafad6",
   "metadata": {},
   "outputs": [
    {
     "name": "stdout",
     "output_type": "stream",
     "text": [
      "I found 6 face(s) in this photograph.\n",
      "A face is located at pixel location Top: 163, Left: 497, Bottom: 271, Right: 605\n",
      "A face is located at pixel location Top: 186, Left: 275, Bottom: 275, Right: 364\n",
      "A face is located at pixel location Top: 211, Left: 67, Bottom: 319, Right: 175\n",
      "A face is located at pixel location Top: 295, Left: 653, Bottom: 402, Right: 760\n",
      "A face is located at pixel location Top: 271, Left: 366, Bottom: 378, Right: 474\n",
      "A face is located at pixel location Top: 152, Left: 724, Bottom: 259, Right: 832\n"
     ]
    }
   ],
   "source": [
    "import PIL.Image\n",
    "import PIL.ImageDraw\n",
    "import face_recognition\n",
    "\n",
    "# Load the jpg file into a numpy array\n",
    "image = face_recognition.load_image_file('people.jpg')\n",
    "\n",
    "# Find all the faces in the image\n",
    "\n",
    "face_locations = face_recognition.face_locations(image)\n",
    "number_of_faces = len(face_locations)\n",
    "print(\"I found {} face(s) in this photograph.\".format(number_of_faces))\n",
    "\n",
    "# Load the image into a Python Image Library object so that we can draw on top of it and display it\n",
    "pil_image = PIL.Image.fromarray(image)\n",
    "\n",
    "for face_location in face_locations:\n",
    "\n",
    "    # Print the location of each face in this image. Each face is a list of co-ordinates in (top, right, bottom, left) order.\n",
    "    top, right, bottom, left = face_location\n",
    "    print(\"A face is located at pixel location Top: {}, Left: {}, Bottom: {}, Right: {}\".format(top, left, bottom, right))\n",
    "\n",
    "    # Let's draw a box around the face\n",
    "    draw = PIL.ImageDraw.Draw(pil_image)\n",
    "    draw.rectangle([left, top, right, bottom], outline=\"red\")\n",
    "\n",
    "# Display the image on screen\n",
    "pil_image.show()\n"
   ]
  },
  {
   "cell_type": "code",
   "execution_count": null,
   "id": "c2287575",
   "metadata": {},
   "outputs": [],
   "source": []
  }
 ],
 "metadata": {
  "kernelspec": {
   "display_name": "Python 3",
   "language": "python",
   "name": "python3"
  },
  "language_info": {
   "codemirror_mode": {
    "name": "ipython",
    "version": 3
   },
   "file_extension": ".py",
   "mimetype": "text/x-python",
   "name": "python",
   "nbconvert_exporter": "python",
   "pygments_lexer": "ipython3",
   "version": "3.8.2"
  }
 },
 "nbformat": 4,
 "nbformat_minor": 5
}
